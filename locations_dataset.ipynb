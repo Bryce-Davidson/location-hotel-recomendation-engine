{
 "cells": [
  {
   "cell_type": "code",
   "execution_count": 3,
   "metadata": {},
   "outputs": [],
   "source": [
    "import os\n",
    "from dotenv import load_dotenv\n",
    "load_dotenv()\n",
    "GOOGLE_API_KEY = os.environ.get('GOOGLE_API_KEY')"
   ]
  },
  {
   "cell_type": "code",
   "execution_count": 3,
   "metadata": {},
   "outputs": [],
   "source": [
    "import pandas as pd\n",
    "import numpy as np\n",
    "import matplotlib.pyplot as plt\n",
    "import googlemaps\n",
    "import time"
   ]
  },
  {
   "cell_type": "code",
   "execution_count": 4,
   "metadata": {},
   "outputs": [],
   "source": [
    "# https://googlemaps.github.io/google-maps-services-python/docs/index.html\n",
    "gmaps = googlemaps.Client(key=GOOGLE_API_KEY)"
   ]
  },
  {
   "cell_type": "code",
   "execution_count": 5,
   "metadata": {},
   "outputs": [],
   "source": [
    "def get_place_data(keyword, coords):\n",
    "    data = []\n",
    "    page_token = None\n",
    "    results = {\"next_page_token\": True}\n",
    "    i = 1\n",
    "    while 'next_page_token' in results:\n",
    "        print(f\"Searching: {keyword} | page {i}\")\n",
    "        results = gmaps.places_nearby(location=coords, radius=6000, keyword=keyword, page_token=page_token)\n",
    "        \n",
    "        if 'next_page_token' in results:\n",
    "            page_token = results['next_page_token']\n",
    "        \n",
    "        for result in results['results']:\n",
    "            row = {\n",
    "                'place_id': result['place_id'],\n",
    "                'name': result['name'],\n",
    "                'avg_rating': result['rating'] if 'rating' in result else np.nan,\n",
    "                'lat': result['geometry']['location']['lat'],\n",
    "                'lng': result['geometry']['location']['lng'],\n",
    "                'types': \",\".join(result['types']),\n",
    "                'business_status': result['business_status'] if 'business_status' in result else np.nan,\n",
    "                'user_ratings_total': result['user_ratings_total'] if 'user_ratings_total' in result else np.nan,\n",
    "            }\n",
    "            data.append(row)\n",
    "        time.sleep(2)\n",
    "        i += 1\n",
    "    return data"
   ]
  },
  {
   "cell_type": "code",
   "execution_count": 6,
   "metadata": {},
   "outputs": [],
   "source": [
    "# Speicify the location and radius of the search\n",
    "\n",
    "# https://developers.google.com/maps/documentation/places/web-service/search-nearby\n",
    "\n",
    "victoria_bc_canada_coords = \"48.407326,-123.329773\"\n",
    "\n",
    "# Pick types from the list below:\n",
    "\n",
    "# https://developers.google.com/maps/documentation/places/web-service/supported_types\n",
    "\n",
    "searches = [\"parks\", \"best breakfast\", \"best brunch\", \"best lunch\", \"best dinner\", \"tourist attractions\", \"view point scenic\", \"historical sites\", \"beaches\", \"things to do\", \"clothing stores\", \"fashion shopping\"]"
   ]
  },
  {
   "cell_type": "code",
   "execution_count": 7,
   "metadata": {},
   "outputs": [
    {
     "name": "stdout",
     "output_type": "stream",
     "text": [
      "Searching: parks | page 1\n",
      "Searching: parks | page 2\n",
      "Searching: parks | page 3\n",
      "Searching: best breakfast | page 1\n",
      "Searching: best breakfast | page 2\n",
      "Searching: best breakfast | page 3\n",
      "Searching: best brunch | page 1\n",
      "Searching: best brunch | page 2\n",
      "Searching: best brunch | page 3\n",
      "Searching: best lunch | page 1\n",
      "Searching: best lunch | page 2\n",
      "Searching: best lunch | page 3\n",
      "Searching: best dinner | page 1\n",
      "Searching: best dinner | page 2\n",
      "Searching: best dinner | page 3\n",
      "Searching: tourist attractions | page 1\n",
      "Searching: tourist attractions | page 2\n",
      "Searching: tourist attractions | page 3\n",
      "Searching: view point scenic | page 1\n",
      "Searching: view point scenic | page 2\n",
      "Searching: historical sites | page 1\n",
      "Searching: historical sites | page 2\n",
      "Searching: beaches | page 1\n",
      "Searching: beaches | page 2\n",
      "Searching: things to do | page 1\n",
      "Searching: things to do | page 2\n",
      "Searching: clothing stores | page 1\n",
      "Searching: clothing stores | page 2\n",
      "Searching: clothing stores | page 3\n",
      "Searching: fashion shopping | page 1\n",
      "Searching: fashion shopping | page 2\n",
      "Searching: fashion shopping | page 3\n"
     ]
    }
   ],
   "source": [
    "all_data = []\n",
    "for search in searches:\n",
    "    all_data.extend(get_place_data(search, victoria_bc_canada_coords))"
   ]
  },
  {
   "cell_type": "code",
   "execution_count": 8,
   "metadata": {},
   "outputs": [
    {
     "name": "stdout",
     "output_type": "stream",
     "text": [
      "Scraped:  (611, 8)\n",
      "Unique: (390, 8)\n"
     ]
    }
   ],
   "source": [
    "# Add the data to the dataframe\n",
    "df = pd.DataFrame(all_data)\n",
    "print(\"Scraped: \", df.shape)\n",
    "\n",
    "df = df.drop_duplicates(subset=['name'], keep='first')\n",
    "print(\"Unique:\", df.shape)"
   ]
  },
  {
   "cell_type": "code",
   "execution_count": 9,
   "metadata": {},
   "outputs": [],
   "source": [
    "# Get the place details for all the locations\n",
    "place_details = []\n",
    "for index, row in df.iterrows():\n",
    "    place_detail = gmaps.place(place_id=row['place_id'], fields=['editorial_summary', 'reviews', 'place_id', 'price_level'])\n",
    "    place_details.append(place_detail)"
   ]
  },
  {
   "cell_type": "code",
   "execution_count": 10,
   "metadata": {},
   "outputs": [],
   "source": [
    "# https://developers.google.com/maps/documentation/places/web-service/details\n",
    "\n",
    "# for every place detail\n",
    "for place_detail in place_details:\n",
    "    place_id = place_detail['result']['place_id']\n",
    "\n",
    "    # get the price level\n",
    "    df.loc[df['place_id'] == place_id, 'price_level'] = place_detail['result']['price_level'] if 'price_level' in place_detail['result'] else np.nan\n",
    "\n",
    "    # get the editorial summary\n",
    "    df.loc[df['place_id'] == place_id, 'editorial_summary'] = place_detail['result']['editorial_summary']['overview'] if 'editorial_summary' in place_detail['result'] else np.nan\n",
    "\n",
    "    # get the reviews\n",
    "    if 'reviews' in place_detail['result']:\n",
    "        reviews_blob = ''\n",
    "        for review in place_detail['result']['reviews']:\n",
    "            reviews_blob += review['text']\n",
    "            reviews_blob += '\\n\\n\\n'\n",
    "        df.loc[df['place_id'] == place_id, 'reviews'] = reviews_blob\n"
   ]
  },
  {
   "cell_type": "code",
   "execution_count": 11,
   "metadata": {},
   "outputs": [
    {
     "name": "stdout",
     "output_type": "stream",
     "text": [
      "                      place_id                             name  avg_rating  \\\n",
      "0  ChIJgXufFGp0j1QR73Bk2bSuNOk            Oak Bay Park Services         2.8   \n",
      "1  ChIJueKTCmtzj1QRxJZTfhNWlsY  Esquimalt Gorge Park & Pavilion         4.7   \n",
      "2  ChIJs2EiwWhzj1QRrbXfYuTM0xE                    Anderson Park         3.5   \n",
      "3  ChIJ_duB57V2j1QR6B8HPH5RqZc          Phyllis Park View Point         4.6   \n",
      "4  ChIJOSvdK45zj1QRjSxErs44NH4                Peacock Hill Park         4.8   \n",
      "\n",
      "         lat         lng                                              types  \\\n",
      "0  48.429269 -123.319069  park,tourist_attraction,point_of_interest,esta...   \n",
      "1  48.446345 -123.404949  park,tourist_attraction,point_of_interest,esta...   \n",
      "2  48.438636 -123.395190               park,point_of_interest,establishment   \n",
      "3  48.459801 -123.275502               park,point_of_interest,establishment   \n",
      "4  48.450314 -123.353779               park,point_of_interest,establishment   \n",
      "\n",
      "  business_status  user_ratings_total  price_level  \\\n",
      "0     OPERATIONAL                   6          NaN   \n",
      "1     OPERATIONAL                1074          NaN   \n",
      "2     OPERATIONAL                  11          NaN   \n",
      "3     OPERATIONAL                  72          NaN   \n",
      "4     OPERATIONAL                  36          NaN   \n",
      "\n",
      "                                   editorial_summary  \\\n",
      "0                                                NaN   \n",
      "1  Riverside park featuring an educational centre...   \n",
      "2                                                NaN   \n",
      "3                                                NaN   \n",
      "4                                                NaN   \n",
      "\n",
      "                                             reviews  \n",
      "0  My family and I have received wonderful servic...  \n",
      "1  This park is so lovely! City staff do a great ...  \n",
      "2  Needs improvements,The skate park needs mainte...  \n",
      "3  Gorgeous view spot over a cliff out to the oce...  \n",
      "4  It's a lovely small rocky/grassy outcrop with ...  \n"
     ]
    }
   ],
   "source": [
    "# print the shape of the dataframe\n",
    "print(df.head())"
   ]
  },
  {
   "cell_type": "code",
   "execution_count": 12,
   "metadata": {},
   "outputs": [],
   "source": [
    "# Save the dataframe to a csv file\n",
    "df.to_csv(\"locations.csv\", index=False)"
   ]
  }
 ],
 "metadata": {
  "kernelspec": {
   "display_name": "base",
   "language": "python",
   "name": "python3"
  },
  "language_info": {
   "codemirror_mode": {
    "name": "ipython",
    "version": 3
   },
   "file_extension": ".py",
   "mimetype": "text/x-python",
   "name": "python",
   "nbconvert_exporter": "python",
   "pygments_lexer": "ipython3",
   "version": "3.10.9"
  },
  "orig_nbformat": 4
 },
 "nbformat": 4,
 "nbformat_minor": 2
}
