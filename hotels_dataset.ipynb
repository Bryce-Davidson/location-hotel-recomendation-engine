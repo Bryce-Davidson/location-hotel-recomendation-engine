{
 "cells": [
  {
   "cell_type": "code",
   "execution_count": 55,
   "metadata": {},
   "outputs": [],
   "source": [
    "import os\n",
    "from dotenv import load_dotenv\n",
    "load_dotenv()\n",
    "\n",
    "GOOGLE_API_KEY = os.environ.get('GOOGLE_API_KEY')"
   ]
  },
  {
   "cell_type": "code",
   "execution_count": 56,
   "metadata": {},
   "outputs": [],
   "source": [
    "import pandas as pd\n",
    "import numpy as np\n",
    "import matplotlib.pyplot as plt\n",
    "import googlemaps\n",
    "import time"
   ]
  },
  {
   "cell_type": "code",
   "execution_count": 57,
   "metadata": {},
   "outputs": [],
   "source": [
    "gmaps = googlemaps.Client(key=GOOGLE_API_KEY)"
   ]
  },
  {
   "cell_type": "code",
   "execution_count": 25,
   "metadata": {},
   "outputs": [],
   "source": [
    "def get_place_data(keyword, coords):\n",
    "    data = []\n",
    "    page_token = None\n",
    "    results = {\"next_page_token\": True}\n",
    "    i = 1\n",
    "    while 'next_page_token' in results:\n",
    "        print(f\"Searching: {keyword} | page {i}\")\n",
    "        results = gmaps.places_nearby(location=coords, radius=6000, keyword=keyword, page_token=page_token)\n",
    "        \n",
    "        if 'next_page_token' in results:\n",
    "            page_token = results['next_page_token']\n",
    "        \n",
    "        for result in results['results']:\n",
    "            row = {\n",
    "                'place_id': result['place_id'],\n",
    "                'name': result['name'],\n",
    "                \n",
    "                'avg_rating': result['rating'] if 'rating' in result else np.nan,\n",
    "                'user_ratings_total': result['user_ratings_total'] if 'user_ratings_total' in result else np.nan,\n",
    "                \n",
    "                'lat': result['geometry']['location']['lat'],\n",
    "                'lng': result['geometry']['location']['lng'],\n",
    "                \n",
    "                'types': \",\".join(result['types']),\n",
    "                \n",
    "                'business_status': result['business_status'] if 'business_status' in result else np.nan,\n",
    "            }\n",
    "            \n",
    "            data.append(row)\n",
    "        time.sleep(2)\n",
    "        i += 1\n",
    "    return data"
   ]
  },
  {
   "cell_type": "code",
   "execution_count": 21,
   "metadata": {},
   "outputs": [],
   "source": [
    "# Speicify the location and radius of the search\n",
    "\n",
    "# https://developers.google.com/maps/documentation/places/web-service/search-nearby\n",
    "\n",
    "victoria_bc_canada_coords = \"48.407326,-123.329773\"\n",
    "\n",
    "# Pick types from the list below:\n",
    "\n",
    "# https://developers.google.com/maps/documentation/places/web-service/supported_types\n",
    "\n",
    "searches = [\"hotels\", \"lodging\", \"bed and breakfast\", \"Places to stay\", \"hostels\", \"motels\", \"resorts\", \"campgrounds\", \"rv parks\"]\n"
   ]
  },
  {
   "cell_type": "code",
   "execution_count": 26,
   "metadata": {},
   "outputs": [
    {
     "name": "stdout",
     "output_type": "stream",
     "text": [
      "Searching: hotels | page 1\n",
      "Searching: hotels | page 2\n",
      "Searching: hotels | page 3\n",
      "Searching: lodging | page 1\n",
      "Searching: lodging | page 2\n",
      "Searching: lodging | page 3\n",
      "Searching: bed and breakfast | page 1\n",
      "Searching: bed and breakfast | page 2\n",
      "Searching: bed and breakfast | page 3\n",
      "Searching: Places to stay | page 1\n",
      "Searching: Places to stay | page 2\n",
      "Searching: Places to stay | page 3\n",
      "Searching: hostels | page 1\n",
      "Searching: motels | page 1\n",
      "Searching: motels | page 2\n",
      "Searching: motels | page 3\n",
      "Searching: resorts | page 1\n",
      "Searching: resorts | page 2\n",
      "Searching: resorts | page 3\n",
      "Searching: campgrounds | page 1\n",
      "Searching: rv parks | page 1\n"
     ]
    }
   ],
   "source": [
    "all_data = []\n",
    "for search in searches:\n",
    "    all_data.extend(get_place_data(search, victoria_bc_canada_coords))"
   ]
  },
  {
   "cell_type": "code",
   "execution_count": 33,
   "metadata": {},
   "outputs": [
    {
     "name": "stdout",
     "output_type": "stream",
     "text": [
      "Scraped:  (343, 9)\n",
      "Unique: (97, 9)\n"
     ]
    }
   ],
   "source": [
    "# Add the data to the dataframe\n",
    "df = pd.DataFrame(all_data)\n",
    "print(\"Scraped: \", df.shape)\n",
    "\n",
    "df = df.drop_duplicates(subset=['name'], keep='first')\n",
    "print(\"Unique:\", df.shape)"
   ]
  },
  {
   "cell_type": "code",
   "execution_count": 34,
   "metadata": {},
   "outputs": [],
   "source": [
    "# Get the place details for all the locations\n",
    "place_details = []\n",
    "for index, row in df.iterrows():\n",
    "    place_detail = gmaps.place(place_id=row['place_id'], fields=['editorial_summary', 'reviews', 'place_id', 'price_level'])\n",
    "    place_details.append(place_detail)"
   ]
  },
  {
   "cell_type": "code",
   "execution_count": 35,
   "metadata": {},
   "outputs": [],
   "source": [
    "# https://developers.google.com/maps/documentation/places/web-service/details\n",
    "\n",
    "# for every place detail\n",
    "for place_detail in place_details:\n",
    "    place_id = place_detail['result']['place_id']\n",
    "\n",
    "    # get the price level\n",
    "    df.loc[df['place_id'] == place_id, 'price_level'] = place_detail['result']['price_level'] if 'price_level' in place_detail['result'] else np.nan\n",
    "\n",
    "    # get the editorial summary\n",
    "    df.loc[df['place_id'] == place_id, 'editorial_summary'] = place_detail['result']['editorial_summary']['overview'] if 'editorial_summary' in place_detail['result'] else np.nan\n",
    "\n",
    "    # get the reviews\n",
    "    if 'reviews' in place_detail['result']:\n",
    "        reviews_blob = ''\n",
    "        for review in place_detail['result']['reviews']:\n",
    "            reviews_blob += review['text']\n",
    "            reviews_blob += '\\n\\n\\n'\n",
    "        df.loc[df['place_id'] == place_id, 'reviews'] = reviews_blob\n"
   ]
  },
  {
   "cell_type": "code",
   "execution_count": 36,
   "metadata": {},
   "outputs": [
    {
     "name": "stdout",
     "output_type": "stream",
     "text": [
      "                      place_id                              name  avg_rating  \\\n",
      "0  ChIJq9Z_wrBzj1QRTxNDocvoQk8  The Vic, Ascend Hotel Collection         4.4   \n",
      "1  ChIJ4Rxmw5p0j1QRS4ikaNyNDds             Bedford Regency Hotel         3.6   \n",
      "2  ChIJiYEIrJF0j1QRzZmiWZXTSRA   Victoria Marriott Inner Harbour         4.4   \n",
      "3  ChIJ5f5ruXhzj1QRnCT8nCWObSI                         Metro Inn         3.2   \n",
      "4  ChIJTXYT-Z5zj1QRJiu1ds-766c    Red Lion Inn & Suites Victoria         3.9   \n",
      "\n",
      "   user_ratings_total        lat         lng  \\\n",
      "0                  78  48.442703 -123.386117   \n",
      "1                 369  48.425546 -123.367807   \n",
      "2                1282  48.421478 -123.364647   \n",
      "3                 106  48.441108 -123.370038   \n",
      "4                1182  48.451352 -123.375029   \n",
      "\n",
      "                                     types business_status  price_level  \\\n",
      "0  lodging,point_of_interest,establishment     OPERATIONAL          NaN   \n",
      "1  lodging,point_of_interest,establishment     OPERATIONAL          NaN   \n",
      "2  lodging,point_of_interest,establishment     OPERATIONAL          NaN   \n",
      "3  lodging,point_of_interest,establishment     OPERATIONAL          NaN   \n",
      "4  lodging,point_of_interest,establishment     OPERATIONAL          NaN   \n",
      "\n",
      "                                   editorial_summary  \\\n",
      "0                                                NaN   \n",
      "1  Classic hotel offering traditional rooms, some...   \n",
      "2  Modern property with a steak & seafood eatery,...   \n",
      "3  Simply furnished rooms offering free WiFi & ki...   \n",
      "4  Unfussy lodging with free Wi-Fi, plus a Chines...   \n",
      "\n",
      "                                             reviews  \n",
      "0  Everything was amazing! The room was spotless ...  \n",
      "1  This hotel is charming, well located and you c...  \n",
      "2  This property is located close to downtown and...  \n",
      "3  The Metro Inn is not a five star, but it is a ...  \n",
      "4  Overall, we had a very pleasant experience. Th...  \n"
     ]
    }
   ],
   "source": [
    "# print the shape of the dataframe\n",
    "print(df.head())"
   ]
  },
  {
   "cell_type": "code",
   "execution_count": 38,
   "metadata": {},
   "outputs": [
    {
     "name": "stdout",
     "output_type": "stream",
     "text": [
      "place_id              0.000000\n",
      "name                  0.000000\n",
      "avg_rating            0.000000\n",
      "user_ratings_total    0.000000\n",
      "lat                   0.000000\n",
      "lng                   0.000000\n",
      "types                 0.000000\n",
      "business_status       0.000000\n",
      "price_level           0.989691\n",
      "editorial_summary     0.298969\n",
      "reviews               0.103093\n",
      "dtype: float64\n"
     ]
    }
   ],
   "source": [
    "# print missing values as a percentage\n",
    "print(df.isnull().sum()/df.shape[0])"
   ]
  },
  {
   "cell_type": "code",
   "execution_count": 39,
   "metadata": {},
   "outputs": [],
   "source": [
    "# Save the dataframe to a csv file\n",
    "df.to_csv(\"hotels.csv\", index=False)"
   ]
  }
 ],
 "metadata": {
  "kernelspec": {
   "display_name": "base",
   "language": "python",
   "name": "python3"
  },
  "language_info": {
   "codemirror_mode": {
    "name": "ipython",
    "version": 3
   },
   "file_extension": ".py",
   "mimetype": "text/x-python",
   "name": "python",
   "nbconvert_exporter": "python",
   "pygments_lexer": "ipython3",
   "version": "3.10.9"
  },
  "orig_nbformat": 4
 },
 "nbformat": 4,
 "nbformat_minor": 2
}
