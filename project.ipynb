{
 "cells": [
  {
   "cell_type": "code",
   "execution_count": 211,
   "metadata": {},
   "outputs": [],
   "source": [
    "import os\n",
    "from dotenv import load_dotenv\n",
    "load_dotenv()\n",
    "OPENAI_API_KEY = os.getenv(\"OPENAI_API_KEY\")"
   ]
  },
  {
   "cell_type": "code",
   "execution_count": 212,
   "metadata": {},
   "outputs": [],
   "source": [
    "import pandas as pd\n",
    "import numpy as np\n",
    "import matplotlib.pyplot as plt"
   ]
  },
  {
   "cell_type": "code",
   "execution_count": 213,
   "metadata": {},
   "outputs": [],
   "source": [
    "# load the data\n",
    "df = pd.read_csv('./locations.csv')"
   ]
  },
  {
   "attachments": {},
   "cell_type": "markdown",
   "metadata": {},
   "source": [
    "# Locations"
   ]
  },
  {
   "cell_type": "code",
   "execution_count": 214,
   "metadata": {},
   "outputs": [
    {
     "data": {
      "text/html": [
       "<div>\n",
       "<style scoped>\n",
       "    .dataframe tbody tr th:only-of-type {\n",
       "        vertical-align: middle;\n",
       "    }\n",
       "\n",
       "    .dataframe tbody tr th {\n",
       "        vertical-align: top;\n",
       "    }\n",
       "\n",
       "    .dataframe thead th {\n",
       "        text-align: right;\n",
       "    }\n",
       "</style>\n",
       "<table border=\"1\" class=\"dataframe\">\n",
       "  <thead>\n",
       "    <tr style=\"text-align: right;\">\n",
       "      <th></th>\n",
       "      <th>place_id</th>\n",
       "      <th>name</th>\n",
       "      <th>avg_rating</th>\n",
       "      <th>lat</th>\n",
       "      <th>lng</th>\n",
       "      <th>user_ratings_total</th>\n",
       "      <th>reviews</th>\n",
       "    </tr>\n",
       "  </thead>\n",
       "  <tbody>\n",
       "    <tr>\n",
       "      <th>0</th>\n",
       "      <td>ChIJ1e5UJJF0j1QR6VpPNf8TYiQ</td>\n",
       "      <td>Royal BC Museum</td>\n",
       "      <td>4.6</td>\n",
       "      <td>48.419811</td>\n",
       "      <td>-123.367450</td>\n",
       "      <td>8661</td>\n",
       "      <td>Great museum has very nice and extensive exhib...</td>\n",
       "    </tr>\n",
       "    <tr>\n",
       "      <th>1</th>\n",
       "      <td>ChIJmXc0Z6J0j1QR4CJUS73dyZk</td>\n",
       "      <td>Fisherman's Wharf Park</td>\n",
       "      <td>4.5</td>\n",
       "      <td>48.421950</td>\n",
       "      <td>-123.383014</td>\n",
       "      <td>7523</td>\n",
       "      <td>A popular tourist attraction on the Victoria w...</td>\n",
       "    </tr>\n",
       "    <tr>\n",
       "      <th>2</th>\n",
       "      <td>ChIJueKTCmtzj1QRxJZTfhNWlsY</td>\n",
       "      <td>Esquimalt Gorge Park &amp; Pavilion</td>\n",
       "      <td>4.7</td>\n",
       "      <td>48.446345</td>\n",
       "      <td>-123.404949</td>\n",
       "      <td>1078</td>\n",
       "      <td>This park is so lovely! City staff do a great ...</td>\n",
       "    </tr>\n",
       "    <tr>\n",
       "      <th>3</th>\n",
       "      <td>ChIJ5ZScPpF0j1QRBLCY8tTvWsM</td>\n",
       "      <td>Thunderbird Park</td>\n",
       "      <td>4.3</td>\n",
       "      <td>48.419794</td>\n",
       "      <td>-123.366680</td>\n",
       "      <td>203</td>\n",
       "      <td>Like the totems and of course worth visiting t...</td>\n",
       "    </tr>\n",
       "    <tr>\n",
       "      <th>4</th>\n",
       "      <td>ChIJS9YYcJB0j1QRPWHIFtwTr18</td>\n",
       "      <td>Victoria Bug Zoo</td>\n",
       "      <td>4.5</td>\n",
       "      <td>48.423300</td>\n",
       "      <td>-123.366668</td>\n",
       "      <td>1822</td>\n",
       "      <td>My daughter and I had a fantastic time at the ...</td>\n",
       "    </tr>\n",
       "  </tbody>\n",
       "</table>\n",
       "</div>"
      ],
      "text/plain": [
       "                      place_id                             name  avg_rating  \\\n",
       "0  ChIJ1e5UJJF0j1QR6VpPNf8TYiQ                  Royal BC Museum         4.6   \n",
       "1  ChIJmXc0Z6J0j1QR4CJUS73dyZk           Fisherman's Wharf Park         4.5   \n",
       "2  ChIJueKTCmtzj1QRxJZTfhNWlsY  Esquimalt Gorge Park & Pavilion         4.7   \n",
       "3  ChIJ5ZScPpF0j1QRBLCY8tTvWsM                 Thunderbird Park         4.3   \n",
       "4  ChIJS9YYcJB0j1QRPWHIFtwTr18                 Victoria Bug Zoo         4.5   \n",
       "\n",
       "         lat         lng  user_ratings_total  \\\n",
       "0  48.419811 -123.367450                8661   \n",
       "1  48.421950 -123.383014                7523   \n",
       "2  48.446345 -123.404949                1078   \n",
       "3  48.419794 -123.366680                 203   \n",
       "4  48.423300 -123.366668                1822   \n",
       "\n",
       "                                             reviews  \n",
       "0  Great museum has very nice and extensive exhib...  \n",
       "1  A popular tourist attraction on the Victoria w...  \n",
       "2  This park is so lovely! City staff do a great ...  \n",
       "3  Like the totems and of course worth visiting t...  \n",
       "4  My daughter and I had a fantastic time at the ...  "
      ]
     },
     "execution_count": 214,
     "metadata": {},
     "output_type": "execute_result"
    }
   ],
   "source": [
    "df.head()"
   ]
  },
  {
   "cell_type": "code",
   "execution_count": 215,
   "metadata": {},
   "outputs": [
    {
     "data": {
      "text/plain": [
       "(357, 7)"
      ]
     },
     "execution_count": 215,
     "metadata": {},
     "output_type": "execute_result"
    }
   ],
   "source": [
    "df.shape"
   ]
  },
  {
   "attachments": {},
   "cell_type": "markdown",
   "metadata": {},
   "source": [
    "## Cleaning"
   ]
  },
  {
   "cell_type": "code",
   "execution_count": 216,
   "metadata": {},
   "outputs": [
    {
     "data": {
      "text/plain": [
       "place_id               0\n",
       "name                   0\n",
       "avg_rating             0\n",
       "lat                    0\n",
       "lng                    0\n",
       "user_ratings_total     0\n",
       "reviews               26\n",
       "dtype: int64"
      ]
     },
     "execution_count": 216,
     "metadata": {},
     "output_type": "execute_result"
    }
   ],
   "source": [
    "# look at missing values as a total and a percentage\n",
    "df.isnull().sum()"
   ]
  },
  {
   "cell_type": "code",
   "execution_count": 217,
   "metadata": {},
   "outputs": [],
   "source": [
    "# drop the rows with missing values in reviews\n",
    "df.dropna(subset=['reviews'], inplace=True)"
   ]
  },
  {
   "cell_type": "code",
   "execution_count": 218,
   "metadata": {},
   "outputs": [
    {
     "data": {
      "image/png": "[encoded data removed]",
      "text/plain": [
       "<Figure size 640x480 with 1 Axes>"
      ]
     },
     "metadata": {},
     "output_type": "display_data"
    }
   ],
   "source": [
    "# look at the distribution of user_ratings_total\n",
    "plt.hist(df['user_ratings_total'], bins=20)\n",
    "# add an x-axis label\n",
    "plt.xlabel('User Ratings Total')\n",
    "plt.show()"
   ]
  },
  {
   "cell_type": "code",
   "execution_count": 219,
   "metadata": {},
   "outputs": [
    {
     "data": {
      "image/png": "[encoded data removed]",
      "text/plain": [
       "<Figure size 640x480 with 1 Axes>"
      ]
     },
     "metadata": {},
     "output_type": "display_data"
    }
   ],
   "source": [
    "# plot the CDF of user_ratings_total as a line\n",
    "plt.plot(np.sort(df['user_ratings_total']), np.linspace(0, 1, len(df), endpoint=False))\n",
    "# plot the quartiles as red dashed lines\n",
    "plt.axvline(df['user_ratings_total'].quantile(0.25), color='red', linestyle='dashed', linewidth=1)\n",
    "plt.axvline(df['user_ratings_total'].quantile(0.5), color='red', linestyle='dashed', linewidth=1)\n",
    "plt.axvline(df['user_ratings_total'].quantile(0.75), color='red', linestyle='dashed', linewidth=1)\n",
    "\n",
    "# add an x-axis label\n",
    "plt.xlabel('User Ratings Total CDF')\n",
    "\n",
    "plt.show()"
   ]
  },
  {
   "cell_type": "code",
   "execution_count": 220,
   "metadata": {},
   "outputs": [
    {
     "data": {
      "image/png": "[encoded data removed]",
      "text/plain": [
       "<Figure size 640x480 with 1 Axes>"
      ]
     },
     "metadata": {},
     "output_type": "display_data"
    }
   ],
   "source": [
    "# plot the CDF of user_ratings_total as a line zoomed into 0-1000\n",
    "plt.plot(np.sort(df['user_ratings_total']), np.linspace(0, 1, len(df), endpoint=False))\n",
    "plt.xlim(0, 600)\n",
    "# plot the quartiles as red dashed lines with a label for each quartile\n",
    "plt.axvline(df['user_ratings_total'].quantile(0.25), color='red', linestyle='dashed', linewidth=1, label='Q1')\n",
    "plt.axvline(df['user_ratings_total'].quantile(0.5), color='red', linestyle='dashed', linewidth=1, label='Q2')\n",
    "plt.axvline(df['user_ratings_total'].quantile(0.75), color='red', linestyle='dashed', linewidth=1, label='Q3')\n",
    "\n",
    "# adding fill\n",
    "\n",
    "# fill between 0 and Q1\n",
    "plt.fill_between([0, df['user_ratings_total'].quantile(0.25)], 0, 1, alpha=0.3, color='red')\n",
    "\n",
    "# fill between Q1 and Q2\n",
    "plt.fill_between([df['user_ratings_total'].quantile(0.25), df['user_ratings_total'].quantile(0.5)], 0, 1, alpha=0.3, color='orange')\n",
    "\n",
    "# fill between Q2 and Q3\n",
    "plt.fill_between([df['user_ratings_total'].quantile(0.5), df['user_ratings_total'].quantile(0.75)], 0, 1, alpha=0.3, color='green')\n",
    "\n",
    "# fill between Q3 and max\n",
    "plt.fill_between([df['user_ratings_total'].quantile(0.75), df['user_ratings_total'].max()], 0, 1, alpha=0.3, color='blue')\n",
    "\n",
    "# add the numerical values of the quartiles on the x-axis\n",
    "Q1 = df['user_ratings_total'].quantile(0.25)\n",
    "Q2 = df['user_ratings_total'].quantile(0.5)\n",
    "Q3 = df['user_ratings_total'].quantile(0.75)\n",
    "\n",
    "plt.xticks([Q1, Q2, Q3, 600], [Q1, Q2, Q3, \"600\"])\n",
    "\n",
    "plt.xlabel('User Ratings Total CDF (zoomed)')\n",
    "plt.show()"
   ]
  },
  {
   "attachments": {},
   "cell_type": "markdown",
   "metadata": {},
   "source": [
    "## Feature Engineering"
   ]
  },
  {
   "attachments": {},
   "cell_type": "markdown",
   "metadata": {},
   "source": [
    "Originally we were going use the average user rating as a feature, but after seeing the skewed distribution of the number of reviews we had to come up with a feature which also took into account how many user reveiws there were to more accurately score the locations."
   ]
  },
  {
   "attachments": {},
   "cell_type": "markdown",
   "metadata": {},
   "source": [
    "## A Bayesian View"
   ]
  },
  {
   "attachments": {},
   "cell_type": "markdown",
   "metadata": {},
   "source": [
    "https://www.johndcook.com/blog/2011/09/27/bayesian-amazon/\n",
    "\n",
    "![Probability Liking](./probabilitiy_liking.png)"
   ]
  },
  {
   "attachments": {},
   "cell_type": "markdown",
   "metadata": {},
   "source": [
    "### Q: Which reseller is likely to give the best service?"
   ]
  },
  {
   "attachments": {},
   "cell_type": "markdown",
   "metadata": {},
   "source": [
    "*Thanks to this video by 3blue1brown*\n",
    "\n",
    "https://www.youtube.com/watch?v=8idr1WZ1A7Q"
   ]
  },
  {
   "attachments": {},
   "cell_type": "markdown",
   "metadata": {},
   "source": [
    "#### A: Pretend that there are two more reviews, one positive and one negative, for each reseller. The resulting ratio is your probability of having a good experience with that reseller."
   ]
  },
  {
   "attachments": {},
   "cell_type": "markdown",
   "metadata": {},
   "source": [
    "<img src=\"./prob_liking_graphic.png\" width=\"400\"/>"
   ]
  },
  {
   "attachments": {},
   "cell_type": "markdown",
   "metadata": {},
   "source": [
    "Using this information we can create a feature for each location as the probability of having a good experience based on the average rating and the total number of ratings."
   ]
  },
  {
   "attachments": {},
   "cell_type": "markdown",
   "metadata": {},
   "source": [
    "### Building the \"probability of enjoying\" feature\n"
   ]
  },
  {
   "cell_type": "code",
   "execution_count": 221,
   "metadata": {},
   "outputs": [],
   "source": [
    "# create a new column in the df dataframe called prob_enjoy\n",
    "\n",
    "positive_percentage = df['avg_rating'] / 5\n",
    "num_positive_reviews = df['user_ratings_total'] * positive_percentage\n",
    "\n",
    "df['prob_enjoy'] = (num_positive_reviews + 1) / (df['user_ratings_total'] + 1)"
   ]
  },
  {
   "cell_type": "code",
   "execution_count": 222,
   "metadata": {},
   "outputs": [
    {
     "data": {
      "text/html": [
       "<div>\n",
       "<style scoped>\n",
       "    .dataframe tbody tr th:only-of-type {\n",
       "        vertical-align: middle;\n",
       "    }\n",
       "\n",
       "    .dataframe tbody tr th {\n",
       "        vertical-align: top;\n",
       "    }\n",
       "\n",
       "    .dataframe thead th {\n",
       "        text-align: right;\n",
       "    }\n",
       "</style>\n",
       "<table border=\"1\" class=\"dataframe\">\n",
       "  <thead>\n",
       "    <tr style=\"text-align: right;\">\n",
       "      <th></th>\n",
       "      <th>name</th>\n",
       "      <th>avg_rating</th>\n",
       "      <th>user_ratings_total</th>\n",
       "      <th>prob_enjoy</th>\n",
       "    </tr>\n",
       "  </thead>\n",
       "  <tbody>\n",
       "    <tr>\n",
       "      <th>53</th>\n",
       "      <td>A Taste of Victoria Food Tours</td>\n",
       "      <td>5.0</td>\n",
       "      <td>157</td>\n",
       "      <td>1.0</td>\n",
       "    </tr>\n",
       "    <tr>\n",
       "      <th>347</th>\n",
       "      <td>Bungay's Bespoke Bicycle Service</td>\n",
       "      <td>5.0</td>\n",
       "      <td>111</td>\n",
       "      <td>1.0</td>\n",
       "    </tr>\n",
       "    <tr>\n",
       "      <th>272</th>\n",
       "      <td>Mama Nadia's Kitchen</td>\n",
       "      <td>5.0</td>\n",
       "      <td>74</td>\n",
       "      <td>1.0</td>\n",
       "    </tr>\n",
       "    <tr>\n",
       "      <th>336</th>\n",
       "      <td>Bishop's Family Cycles</td>\n",
       "      <td>5.0</td>\n",
       "      <td>29</td>\n",
       "      <td>1.0</td>\n",
       "    </tr>\n",
       "    <tr>\n",
       "      <th>104</th>\n",
       "      <td>Finlayson Point Beach</td>\n",
       "      <td>5.0</td>\n",
       "      <td>11</td>\n",
       "      <td>1.0</td>\n",
       "    </tr>\n",
       "    <tr>\n",
       "      <th>29</th>\n",
       "      <td>Rainforest Tours</td>\n",
       "      <td>5.0</td>\n",
       "      <td>10</td>\n",
       "      <td>1.0</td>\n",
       "    </tr>\n",
       "    <tr>\n",
       "      <th>131</th>\n",
       "      <td>Bagheera Boutique</td>\n",
       "      <td>5.0</td>\n",
       "      <td>9</td>\n",
       "      <td>1.0</td>\n",
       "    </tr>\n",
       "    <tr>\n",
       "      <th>45</th>\n",
       "      <td>The Breakwater</td>\n",
       "      <td>5.0</td>\n",
       "      <td>8</td>\n",
       "      <td>1.0</td>\n",
       "    </tr>\n",
       "    <tr>\n",
       "      <th>67</th>\n",
       "      <td>view of Victoria Harbour</td>\n",
       "      <td>5.0</td>\n",
       "      <td>6</td>\n",
       "      <td>1.0</td>\n",
       "    </tr>\n",
       "    <tr>\n",
       "      <th>72</th>\n",
       "      <td>Old Victoria Customs House</td>\n",
       "      <td>5.0</td>\n",
       "      <td>6</td>\n",
       "      <td>1.0</td>\n",
       "    </tr>\n",
       "  </tbody>\n",
       "</table>\n",
       "</div>"
      ],
      "text/plain": [
       "                                 name  avg_rating  user_ratings_total  \\\n",
       "53     A Taste of Victoria Food Tours         5.0                 157   \n",
       "347  Bungay's Bespoke Bicycle Service         5.0                 111   \n",
       "272              Mama Nadia's Kitchen         5.0                  74   \n",
       "336            Bishop's Family Cycles         5.0                  29   \n",
       "104             Finlayson Point Beach         5.0                  11   \n",
       "29                   Rainforest Tours         5.0                  10   \n",
       "131                 Bagheera Boutique         5.0                   9   \n",
       "45                     The Breakwater         5.0                   8   \n",
       "67           view of Victoria Harbour         5.0                   6   \n",
       "72         Old Victoria Customs House         5.0                   6   \n",
       "\n",
       "     prob_enjoy  \n",
       "53          1.0  \n",
       "347         1.0  \n",
       "272         1.0  \n",
       "336         1.0  \n",
       "104         1.0  \n",
       "29          1.0  \n",
       "131         1.0  \n",
       "45          1.0  \n",
       "67          1.0  \n",
       "72          1.0  "
      ]
     },
     "execution_count": 222,
     "metadata": {},
     "output_type": "execute_result"
    }
   ],
   "source": [
    "# sort according to prob_enjoy\n",
    "df[[\"name\", \"avg_rating\", \"user_ratings_total\", \"prob_enjoy\"]].sort_values(by=['prob_enjoy', 'user_ratings_total'], ascending=False, inplace=False).head(10)"
   ]
  },
  {
   "attachments": {},
   "cell_type": "markdown",
   "metadata": {},
   "source": [
    "## Building the Model"
   ]
  },
  {
   "cell_type": "code",
   "execution_count": 223,
   "metadata": {},
   "outputs": [
    {
     "data": {
      "text/html": [
       "<div>\n",
       "<style scoped>\n",
       "    .dataframe tbody tr th:only-of-type {\n",
       "        vertical-align: middle;\n",
       "    }\n",
       "\n",
       "    .dataframe tbody tr th {\n",
       "        vertical-align: top;\n",
       "    }\n",
       "\n",
       "    .dataframe thead th {\n",
       "        text-align: right;\n",
       "    }\n",
       "</style>\n",
       "<table border=\"1\" class=\"dataframe\">\n",
       "  <thead>\n",
       "    <tr style=\"text-align: right;\">\n",
       "      <th></th>\n",
       "      <th>00</th>\n",
       "      <th>10</th>\n",
       "      <th>100</th>\n",
       "      <th>1000</th>\n",
       "      <th>10pm</th>\n",
       "      <th>10th</th>\n",
       "      <th>11</th>\n",
       "      <th>1130pm</th>\n",
       "      <th>11am</th>\n",
       "      <th>11pm</th>\n",
       "      <th>...</th>\n",
       "      <th>zambri</th>\n",
       "      <th>zambris</th>\n",
       "      <th>zara</th>\n",
       "      <th>zero</th>\n",
       "      <th>zesty</th>\n",
       "      <th>zip</th>\n",
       "      <th>zipline</th>\n",
       "      <th>zone</th>\n",
       "      <th>zoo</th>\n",
       "      <th>zoom</th>\n",
       "    </tr>\n",
       "  </thead>\n",
       "  <tbody>\n",
       "    <tr>\n",
       "      <th>0</th>\n",
       "      <td>0.068927</td>\n",
       "      <td>0.0</td>\n",
       "      <td>0.0</td>\n",
       "      <td>0.0</td>\n",
       "      <td>0.095589</td>\n",
       "      <td>0.0</td>\n",
       "      <td>0.0</td>\n",
       "      <td>0.0</td>\n",
       "      <td>0.0</td>\n",
       "      <td>0.0</td>\n",
       "      <td>...</td>\n",
       "      <td>0.0</td>\n",
       "      <td>0.0</td>\n",
       "      <td>0.0</td>\n",
       "      <td>0.0</td>\n",
       "      <td>0.0</td>\n",
       "      <td>0.0</td>\n",
       "      <td>0.0</td>\n",
       "      <td>0.0</td>\n",
       "      <td>0.000000</td>\n",
       "      <td>0.0</td>\n",
       "    </tr>\n",
       "    <tr>\n",
       "      <th>1</th>\n",
       "      <td>0.000000</td>\n",
       "      <td>0.0</td>\n",
       "      <td>0.0</td>\n",
       "      <td>0.0</td>\n",
       "      <td>0.000000</td>\n",
       "      <td>0.0</td>\n",
       "      <td>0.0</td>\n",
       "      <td>0.0</td>\n",
       "      <td>0.0</td>\n",
       "      <td>0.0</td>\n",
       "      <td>...</td>\n",
       "      <td>0.0</td>\n",
       "      <td>0.0</td>\n",
       "      <td>0.0</td>\n",
       "      <td>0.0</td>\n",
       "      <td>0.0</td>\n",
       "      <td>0.0</td>\n",
       "      <td>0.0</td>\n",
       "      <td>0.0</td>\n",
       "      <td>0.000000</td>\n",
       "      <td>0.0</td>\n",
       "    </tr>\n",
       "    <tr>\n",
       "      <th>2</th>\n",
       "      <td>0.000000</td>\n",
       "      <td>0.0</td>\n",
       "      <td>0.0</td>\n",
       "      <td>0.0</td>\n",
       "      <td>0.000000</td>\n",
       "      <td>0.0</td>\n",
       "      <td>0.0</td>\n",
       "      <td>0.0</td>\n",
       "      <td>0.0</td>\n",
       "      <td>0.0</td>\n",
       "      <td>...</td>\n",
       "      <td>0.0</td>\n",
       "      <td>0.0</td>\n",
       "      <td>0.0</td>\n",
       "      <td>0.0</td>\n",
       "      <td>0.0</td>\n",
       "      <td>0.0</td>\n",
       "      <td>0.0</td>\n",
       "      <td>0.0</td>\n",
       "      <td>0.000000</td>\n",
       "      <td>0.0</td>\n",
       "    </tr>\n",
       "    <tr>\n",
       "      <th>3</th>\n",
       "      <td>0.000000</td>\n",
       "      <td>0.0</td>\n",
       "      <td>0.0</td>\n",
       "      <td>0.0</td>\n",
       "      <td>0.000000</td>\n",
       "      <td>0.0</td>\n",
       "      <td>0.0</td>\n",
       "      <td>0.0</td>\n",
       "      <td>0.0</td>\n",
       "      <td>0.0</td>\n",
       "      <td>...</td>\n",
       "      <td>0.0</td>\n",
       "      <td>0.0</td>\n",
       "      <td>0.0</td>\n",
       "      <td>0.0</td>\n",
       "      <td>0.0</td>\n",
       "      <td>0.0</td>\n",
       "      <td>0.0</td>\n",
       "      <td>0.0</td>\n",
       "      <td>0.000000</td>\n",
       "      <td>0.0</td>\n",
       "    </tr>\n",
       "    <tr>\n",
       "      <th>4</th>\n",
       "      <td>0.000000</td>\n",
       "      <td>0.0</td>\n",
       "      <td>0.0</td>\n",
       "      <td>0.0</td>\n",
       "      <td>0.000000</td>\n",
       "      <td>0.0</td>\n",
       "      <td>0.0</td>\n",
       "      <td>0.0</td>\n",
       "      <td>0.0</td>\n",
       "      <td>0.0</td>\n",
       "      <td>...</td>\n",
       "      <td>0.0</td>\n",
       "      <td>0.0</td>\n",
       "      <td>0.0</td>\n",
       "      <td>0.0</td>\n",
       "      <td>0.0</td>\n",
       "      <td>0.0</td>\n",
       "      <td>0.0</td>\n",
       "      <td>0.0</td>\n",
       "      <td>0.336469</td>\n",
       "      <td>0.0</td>\n",
       "    </tr>\n",
       "  </tbody>\n",
       "</table>\n",
       "<p>5 rows × 7233 columns</p>\n",
       "</div>"
      ],
      "text/plain": [
       "         00   10  100  1000      10pm  10th   11  1130pm  11am  11pm  ...  \\\n",
       "0  0.068927  0.0  0.0   0.0  0.095589   0.0  0.0     0.0   0.0   0.0  ...   \n",
       "1  0.000000  0.0  0.0   0.0  0.000000   0.0  0.0     0.0   0.0   0.0  ...   \n",
       "2  0.000000  0.0  0.0   0.0  0.000000   0.0  0.0     0.0   0.0   0.0  ...   \n",
       "3  0.000000  0.0  0.0   0.0  0.000000   0.0  0.0     0.0   0.0   0.0  ...   \n",
       "4  0.000000  0.0  0.0   0.0  0.000000   0.0  0.0     0.0   0.0   0.0  ...   \n",
       "\n",
       "   zambri  zambris  zara  zero  zesty  zip  zipline  zone       zoo  zoom  \n",
       "0     0.0      0.0   0.0   0.0    0.0  0.0      0.0   0.0  0.000000   0.0  \n",
       "1     0.0      0.0   0.0   0.0    0.0  0.0      0.0   0.0  0.000000   0.0  \n",
       "2     0.0      0.0   0.0   0.0    0.0  0.0      0.0   0.0  0.000000   0.0  \n",
       "3     0.0      0.0   0.0   0.0    0.0  0.0      0.0   0.0  0.000000   0.0  \n",
       "4     0.0      0.0   0.0   0.0    0.0  0.0      0.0   0.0  0.336469   0.0  \n",
       "\n",
       "[5 rows x 7233 columns]"
      ]
     },
     "execution_count": 223,
     "metadata": {},
     "output_type": "execute_result"
    }
   ],
   "source": [
    "from sklearn.feature_extraction.text import TfidfVectorizer\n",
    "# Compute TF-IDF values\n",
    "vectorizer = TfidfVectorizer(stop_words='english')\n",
    "tfidf_matrix = vectorizer.fit_transform(df['reviews'])\n",
    "\n",
    "# Create a DataFrame with these features\n",
    "feature_names = vectorizer.get_feature_names_out()\n",
    "df_tfidf = pd.DataFrame(tfidf_matrix.toarray(), columns=feature_names)\n",
    "\n",
    "df_tfidf.head()"
   ]
  },
  {
   "attachments": {},
   "cell_type": "markdown",
   "metadata": {},
   "source": [
    "## Creating the Recommendation Function"
   ]
  },
  {
   "cell_type": "code",
   "execution_count": 224,
   "metadata": {},
   "outputs": [],
   "source": [
    "# Find the cosine similarity between the user_input and all of the reviews\n",
    "from sklearn.metrics.pairwise import cosine_similarity\n",
    "import regex as re\n",
    "\n",
    "def make_recomendation(user_input):\n",
    "    # Compute TF-IDF values\n",
    "    user_input_prepared = vectorizer.transform([user_input])\n",
    "    # Find the cosine similarity between the user_input and all of the reviews\n",
    "    cosine_similarities = cosine_similarity(user_input_prepared, tfidf_matrix).flatten()\n",
    "    # scale the cosine_similarities by the prob_enjoy column\n",
    "    cosine_similarities = cosine_similarities * df['prob_enjoy']\n",
    "    # Find the index of the top 5 most similar locations\n",
    "    related_locations_indices = cosine_similarities.argsort()[:-6:-1]\n",
    "    # Print the top 5 most similar locations\n",
    "    return df.iloc[related_locations_indices]\n"
   ]
  },
  {
   "attachments": {},
   "cell_type": "markdown",
   "metadata": {},
   "source": [
    "## Making a Recommendation"
   ]
  },
  {
   "cell_type": "code",
   "execution_count": 225,
   "metadata": {},
   "outputs": [],
   "source": [
    "user_input = \"I love going to a beach or a park for a walk at sunset. ideally at a place with great views. I also enjoy live music or any kind of theatre where there is a performance happening. I also love to go to museums and learn about the history of the place I'm visiting. My favourite food is Italian and I love eating anywhere with a great staff and proffesional service.\""
   ]
  },
  {
   "cell_type": "code",
   "execution_count": 226,
   "metadata": {},
   "outputs": [],
   "source": [
    "# remove punctuation\n",
    "pattern = r\"[,.]\"\n",
    "user_input = re.sub(pattern, \"\", user_input)\n",
    "\n",
    "user_input_no_stop = ' '.join([word for word in user_input.split() if word not in vectorizer.get_stop_words()])"
   ]
  },
  {
   "cell_type": "code",
   "execution_count": 227,
   "metadata": {},
   "outputs": [],
   "source": [
    "recommended = make_recomendation(user_input)"
   ]
  },
  {
   "cell_type": "code",
   "execution_count": 232,
   "metadata": {},
   "outputs": [
    {
     "name": "stdout",
     "output_type": "stream",
     "text": [
      "Highrock Cairn Park\n",
      "------------------\n",
      "\u001b[90mGreat\u001b[0m \u001b[31mplace\u001b[0m \u001b[90mto\u001b[0m \u001b[90mtake\u001b[0m \u001b[90myour\u001b[0m \u001b[90mdog\u001b[0m \u001b[90mto\u001b[0m \u001b[90mrun\u001b[0m \u001b[90maround\u001b[0m \u001b[90min\u001b[0m \u001b[90ma\u001b[0m \u001b[90msafe\u001b[0m \u001b[90menvironment!\u001b[0m \u001b[90mFantastic\u001b[0m \u001b[90mview\u001b[0m \u001b[90mof\u001b[0m \u001b[90mVictoria.\u001b[0m\n",
      "\u001b[90mNatural\u001b[0m \u001b[90mbeauty\u001b[0m \u001b[90mfun\u001b[0m \u001b[90mlittle\u001b[0m \u001b[31mwalk\u001b[0m \u001b[90mwith\u001b[0m \u001b[90mbeautiful\u001b[0m \u001b[31mviews\u001b[0m \u001b[90mfor\u001b[0m \u001b[90msunset!\u001b[0m \u001b[90mGreat\u001b[0m \u001b[31mviews\u001b[0m \u001b[90mand\u001b[0m \u001b[90ma\u001b[0m \u001b[90mnice\u001b[0m \u001b[31mplace\u001b[0m \u001b[90mto\u001b[0m\n",
      "\u001b[90msee\u001b[0m \u001b[90ma\u001b[0m \u001b[31msunset\u001b[0m \u001b[90monce\u001b[0m \u001b[90mand\u001b[0m \u001b[90ma\u001b[0m \u001b[90mwhile.\u001b[0m \u001b[90mGood\u001b[0m \u001b[90mlittle\u001b[0m \u001b[90mjourney\u001b[0m \u001b[90mto\u001b[0m \u001b[90mdowntown\u001b[0m \u001b[90mbut\u001b[0m \u001b[90mworth\u001b[0m \u001b[90mthe\u001b[0m \u001b[31mviews\u001b[0m \u001b[90m.\u001b[0m\n",
      "\u001b[90mFavourite\u001b[0m \u001b[90mchildhood\u001b[0m \u001b[90mpark.\u001b[0m \u001b[90mGreat\u001b[0m \u001b[31mplace\u001b[0m \u001b[90mto\u001b[0m \u001b[31mwalk\u001b[0m \u001b[90myour\u001b[0m \u001b[90mdog\u001b[0m \u001b[90mor\u001b[0m \u001b[90mhang\u001b[0m \u001b[90mout\u001b[0m \u001b[90mand\u001b[0m \u001b[90mread\u001b[0m \u001b[90ma\u001b[0m \u001b[90mbook.\u001b[0m \u001b[90mHas\u001b[0m\n",
      "\u001b[90ma\u001b[0m \u001b[31mgreat\u001b[0m \u001b[90mview\u001b[0m \u001b[90mof\u001b[0m \u001b[90mVictoria\u001b[0m \u001b[90mand\u001b[0m \u001b[90mEsquimalt\u001b[0m \u001b[90mfrom\u001b[0m \u001b[90mthe\u001b[0m \u001b[90msummit\u001b[0m\n",
      "\n",
      "\n",
      "II Terrazzo\n",
      "------------------\n",
      "\u001b[90mWe\u001b[0m \u001b[90mwent\u001b[0m \u001b[90mthere\u001b[0m \u001b[90mfor\u001b[0m \u001b[90mmy\u001b[0m \u001b[90mbirthday.\u001b[0m \u001b[90mThe\u001b[0m \u001b[90matmosphere\u001b[0m \u001b[90mis\u001b[0m \u001b[90mfantastic.\u001b[0m \u001b[90mGreat\u001b[0m \u001b[90mrestaurant\u001b[0m \u001b[90mand\u001b[0m \u001b[90moutstanding\u001b[0m \u001b[90mservice.\u001b[0m \u001b[90mWe\u001b[0m\n",
      "\u001b[31mlove\u001b[0m \u001b[90mthe\u001b[0m \u001b[90mmussels,\u001b[0m \u001b[90mand\u001b[0m \u001b[90mit's\u001b[0m \u001b[90mjuicy\u001b[0m \u001b[90mand\u001b[0m \u001b[90mfresh.\u001b[0m \u001b[90mJust\u001b[0m \u001b[90ma\u001b[0m \u001b[90mlittle\u001b[0m \u001b[90mbit\u001b[0m \u001b[90mdisappointed\u001b[0m \u001b[90mabout\u001b[0m \u001b[90mthe\u001b[0m \u001b[90mlamb\u001b[0m \u001b[90mwe\u001b[0m\n",
      "\u001b[90mordered.\u001b[0m \u001b[90mThe\u001b[0m \u001b[90mlamb\u001b[0m \u001b[90mquality\u001b[0m \u001b[90mis\u001b[0m \u001b[90mexcellent,\u001b[0m \u001b[90mbut\u001b[0m \u001b[90mthe\u001b[0m \u001b[90mstyle\u001b[0m \u001b[90mof\u001b[0m \u001b[90mthe\u001b[0m \u001b[90mdishes\u001b[0m \u001b[90mis\u001b[0m \u001b[90mnot\u001b[0m \u001b[90mour\u001b[0m \u001b[90mtype.\u001b[0m \u001b[90mReally\u001b[0m\n",
      "\u001b[90menjoyed\u001b[0m \u001b[90mthe\u001b[0m \u001b[31mfood\u001b[0m \u001b[90mand\u001b[0m \u001b[90mthe\u001b[0m \u001b[90mservice.\u001b[0m \u001b[90mThe\u001b[0m \u001b[90mportions\u001b[0m \u001b[90mwere\u001b[0m \u001b[90mgenerous.\u001b[0m \u001b[90mDefinitely\u001b[0m \u001b[90ma\u001b[0m \u001b[90mmust\u001b[0m \u001b[90mgo\u001b[0m \u001b[90mif\u001b[0m \u001b[90myou\u001b[0m \u001b[90mare\u001b[0m\n",
      "\u001b[90min\u001b[0m \u001b[90mVictoria\u001b[0m \u001b[90mIncredible\u001b[0m \u001b[31mItalian\u001b[0m \u001b[31mfood\u001b[0m \u001b[90mwith\u001b[0m \u001b[90mlarge\u001b[0m \u001b[90mportions\u001b[0m \u001b[90mand\u001b[0m \u001b[90msuper\u001b[0m \u001b[90mfriendly\u001b[0m \u001b[90mstaff.\u001b[0m \u001b[90mReally\u001b[0m \u001b[90mfun\u001b[0m \u001b[90matmosphere\u001b[0m\n",
      "\u001b[90minside\u001b[0m \u001b[90mas\u001b[0m \u001b[90mwell.\u001b[0m \u001b[90mEasily\u001b[0m \u001b[90mthe\u001b[0m \u001b[90mbest\u001b[0m \u001b[90mmeal\u001b[0m \u001b[90mwe\u001b[0m \u001b[90mhad\u001b[0m \u001b[90mduring\u001b[0m \u001b[90mour\u001b[0m \u001b[90mtrip\u001b[0m \u001b[90mto\u001b[0m \u001b[90mVictoria.\u001b[0m \u001b[90mEasily\u001b[0m \u001b[90mthe\u001b[0m \u001b[90mbest\u001b[0m\n",
      "\u001b[90mand\u001b[0m \u001b[90mmost\u001b[0m \u001b[90mauthentic\u001b[0m \u001b[31mItalian\u001b[0m \u001b[90mcuisine\u001b[0m \u001b[90mon\u001b[0m \u001b[90mthe\u001b[0m \u001b[90misland.\u001b[0m \u001b[90mFantastic\u001b[0m \u001b[90mmenu,\u001b[0m \u001b[90mfabulous\u001b[0m \u001b[90mservice,\u001b[0m \u001b[90mand\u001b[0m \u001b[90ma\u001b[0m \u001b[90mtruly\u001b[0m \u001b[90mincredible\u001b[0m\n",
      "\u001b[90mwine\u001b[0m \u001b[90mselection.\u001b[0m \u001b[31mI\u001b[0m \u001b[90mrecommend\u001b[0m \u001b[90mthis\u001b[0m \u001b[90mrestaurant\u001b[0m \u001b[90mto\u001b[0m \u001b[90manyone\u001b[0m \u001b[31mvisiting\u001b[0m \u001b[90mVictoria.\u001b[0m \u001b[90mWe\u001b[0m \u001b[90mhave\u001b[0m \u001b[90mbeen\u001b[0m \u001b[90mmany\u001b[0m \u001b[90mtimes\u001b[0m \u001b[90mand\u001b[0m\n",
      "\u001b[90malways\u001b[0m \u001b[90mhave\u001b[0m \u001b[90ma\u001b[0m \u001b[31mgreat\u001b[0m \u001b[90mexperience\u001b[0m \u001b[90malongside\u001b[0m \u001b[90mfriendly\u001b[0m \u001b[90mand\u001b[0m \u001b[90mattentive\u001b[0m \u001b[31mservice\u001b[0m \u001b[90mIt’s\u001b[0m \u001b[90ma\u001b[0m \u001b[31mgreat\u001b[0m \u001b[90mrestaurant.\u001b[0m \u001b[90mIt’s\u001b[0m\n",
      "\u001b[90mromantic\u001b[0m \u001b[90mand\u001b[0m \u001b[90mcozy.\u001b[0m \u001b[90mAlso\u001b[0m \u001b[90mVery\u001b[0m \u001b[90myummy.\u001b[0m \u001b[90mPortions\u001b[0m \u001b[90mare\u001b[0m \u001b[90mhuge.\u001b[0m \u001b[90mMake\u001b[0m \u001b[90mreservations\u001b[0m \u001b[90mwith\u001b[0m \u001b[90mtime.\u001b[0m \u001b[90mI’ll\u001b[0m \u001b[90mdefinitely\u001b[0m\n",
      "\u001b[90mrecommend\u001b[0m \u001b[90mthis\u001b[0m \u001b[90mrestaurant.\u001b[0m \u001b[90mHowever\u001b[0m \u001b[31mI\u001b[0m \u001b[90mdid\u001b[0m \u001b[90mmiss\u001b[0m \u001b[90mfrom\u001b[0m \u001b[90mtheir\u001b[0m \u001b[90mmenu\u001b[0m \u001b[90ma\u001b[0m \u001b[90mmore\u001b[0m \u001b[31mItalian\u001b[0m \u001b[90mstyle\u001b[0m \u001b[90mpasta.\u001b[0m\n",
      "\n",
      "\n",
      "Macaulay Point Park\n",
      "------------------\n",
      "\u001b[90mYou\u001b[0m \u001b[90mabsolutely\u001b[0m \u001b[90mcan't\u001b[0m \u001b[90mloose\u001b[0m \u001b[90mvisiting.\u001b[0m \u001b[90mNice\u001b[0m \u001b[90mocean\u001b[0m \u001b[31mviews\u001b[0m \u001b[90mand\u001b[0m \u001b[31mhistory\u001b[0m \u001b[90mof\u001b[0m \u001b[90mCanada's\u001b[0m \u001b[90mdefences.\u001b[0m \u001b[90mWith\u001b[0m \u001b[90mold\u001b[0m \u001b[90mmilitary\u001b[0m\n",
      "\u001b[90mramparts\u001b[0m \u001b[90mand\u001b[0m \u001b[90meven\u001b[0m \u001b[90ma\u001b[0m \u001b[90mtunnel\u001b[0m \u001b[90mfor\u001b[0m \u001b[90mold\u001b[0m \u001b[90mand\u001b[0m \u001b[90myoung\u001b[0m \u001b[90mtoo\u001b[0m \u001b[90mexplore.\u001b[0m \u001b[90mThis\u001b[0m \u001b[31mpark\u001b[0m \u001b[90mis\u001b[0m \u001b[90mwell\u001b[0m \u001b[90mworth\u001b[0m \u001b[90mthe\u001b[0m\n",
      "\u001b[90mvisit.\u001b[0m \u001b[90mWe’ll\u001b[0m \u001b[90mgroomed\u001b[0m \u001b[90mtrails\u001b[0m \u001b[31mwalk\u001b[0m \u001b[90myou\u001b[0m \u001b[90mthrough\u001b[0m \u001b[90ma\u001b[0m \u001b[90mhistoric\u001b[0m \u001b[90mmilitary\u001b[0m \u001b[90msite\u001b[0m \u001b[90mwith\u001b[0m \u001b[90minterpretive\u001b[0m \u001b[90minformation\u001b[0m \u001b[90mand\u001b[0m\n",
      "\u001b[31mgreat\u001b[0m \u001b[31mviews\u001b[0m \u001b[90mor\u001b[0m \u001b[90mVictoria\u001b[0m \u001b[90mand\u001b[0m \u001b[90mtowards\u001b[0m \u001b[90mthe\u001b[0m \u001b[90mOlympic\u001b[0m \u001b[90mMountains.\u001b[0m \u001b[90mThis\u001b[0m \u001b[90mis\u001b[0m \u001b[90ma\u001b[0m \u001b[90mhigh\u001b[0m \u001b[90mcalibre\u001b[0m \u001b[90m(no\u001b[0m \u001b[90mpun\u001b[0m\n",
      "\u001b[90mintended)\u001b[0m \u001b[31mpark\u001b[0m \u001b[90mwith\u001b[0m \u001b[90mfree\u001b[0m \u001b[90mparking\u001b[0m \u001b[90mand\u001b[0m \u001b[90mno\u001b[0m \u001b[90mentry\u001b[0m \u001b[90mfee.\u001b[0m \u001b[90mIt’s\u001b[0m \u001b[90mdog\u001b[0m \u001b[90mfriendly…\u001b[0m \u001b[90ma\u001b[0m \u001b[90mreal\u001b[0m \u001b[90mlocal\u001b[0m \u001b[90mgem.\u001b[0m \u001b[90mA\u001b[0m\n",
      "\u001b[90mnice\u001b[0m \u001b[31mplace\u001b[0m \u001b[90mfor\u001b[0m \u001b[90ma\u001b[0m \u001b[90mquick\u001b[0m \u001b[31mwalk\u001b[0m \u001b[90malong\u001b[0m \u001b[90mthe\u001b[0m \u001b[90mwater,\u001b[0m \u001b[90msome\u001b[0m \u001b[90mhistoric\u001b[0m \u001b[90msites\u001b[0m \u001b[90mand\u001b[0m \u001b[90ma\u001b[0m \u001b[90mbeautiful\u001b[0m \u001b[90mview\u001b[0m \u001b[90mof\u001b[0m\n",
      "\u001b[90mthe\u001b[0m \u001b[90mmountains!\u001b[0m \u001b[90mWe\u001b[0m \u001b[90mstayed\u001b[0m \u001b[90min\u001b[0m \u001b[90man\u001b[0m \u001b[90mAirBnB\u001b[0m \u001b[90mright\u001b[0m \u001b[90mat\u001b[0m \u001b[90mthe\u001b[0m \u001b[90mentrance\u001b[0m \u001b[90mof\u001b[0m \u001b[90mthis\u001b[0m \u001b[31mpark\u001b[0m \u001b[90mand\u001b[0m \u001b[90mit\u001b[0m \u001b[90mwas\u001b[0m\n",
      "\u001b[90mstunning!\u001b[0m \u001b[90mYou\u001b[0m \u001b[90mcan\u001b[0m \u001b[90mwatch\u001b[0m \u001b[90mthe\u001b[0m \u001b[90mcruise\u001b[0m \u001b[90mships\u001b[0m \u001b[90mcome\u001b[0m \u001b[90mand\u001b[0m \u001b[90mgo,\u001b[0m \u001b[90mas\u001b[0m \u001b[90mwell\u001b[0m \u001b[90mas\u001b[0m \u001b[90mexplore\u001b[0m \u001b[90mthe\u001b[0m \u001b[90mold\u001b[0m \u001b[90mbarracks.\u001b[0m\n",
      "\u001b[90mThere\u001b[0m \u001b[90mis\u001b[0m \u001b[90mwildlife\u001b[0m \u001b[90mto\u001b[0m \u001b[90mwatch,\u001b[0m \u001b[90mand\u001b[0m \u001b[90mvery\u001b[0m \u001b[90mfriendly\u001b[0m \u001b[90mlocals\u001b[0m \u001b[90mwalking\u001b[0m \u001b[90mtheir\u001b[0m \u001b[90mdogs.\u001b[0m \u001b[90mFabulous\u001b[0m \u001b[31mpark\u001b[0m \u001b[90mthat\u001b[0m \u001b[90mwe\u001b[0m\n",
      "\u001b[90malmost\u001b[0m \u001b[90mmissed\u001b[0m \u001b[90mout\u001b[0m \u001b[90mon.\u001b[0m \u001b[90mWe\u001b[0m \u001b[90mwere\u001b[0m \u001b[90mconfused\u001b[0m \u001b[90mby\u001b[0m \u001b[90mthe\u001b[0m \u001b[90mlocked\u001b[0m \u001b[90mgate\u001b[0m \u001b[90mand\u001b[0m \u001b[90mno\u001b[0m \u001b[90mparking\u001b[0m \u001b[90msigns\u001b[0m \u001b[90mevery\u001b[0m \u001b[90mwhere\u001b[0m\n",
      "\u001b[90mnear\u001b[0m \u001b[90mthe\u001b[0m \u001b[90mentrance.\u001b[0m \u001b[90mGlad\u001b[0m \u001b[90mwe\u001b[0m \u001b[90mtook\u001b[0m \u001b[90ma\u001b[0m \u001b[90mchance\u001b[0m \u001b[90mand\u001b[0m \u001b[90mparked\u001b[0m \u001b[90mfurther\u001b[0m \u001b[90mdown\u001b[0m \u001b[90mthe\u001b[0m \u001b[90mstreet.\u001b[0m \u001b[90mThe\u001b[0m \u001b[31mpark\u001b[0m \u001b[90mhad\u001b[0m\n",
      "\u001b[90mlots\u001b[0m \u001b[90mof\u001b[0m \u001b[90mpathways\u001b[0m \u001b[90mleading\u001b[0m \u001b[90mto\u001b[0m \u001b[90mthe\u001b[0m \u001b[90mwater\u001b[0m \u001b[90mand\u001b[0m \u001b[90malong\u001b[0m \u001b[90mthe\u001b[0m \u001b[90mwater.\u001b[0m \u001b[90mThis\u001b[0m \u001b[90mis\u001b[0m \u001b[90ma\u001b[0m \u001b[31mgreat\u001b[0m \u001b[31mplace\u001b[0m \u001b[90mto\u001b[0m \u001b[31mwalk\u001b[0m\n",
      "\u001b[90myour\u001b[0m \u001b[90mdog\u001b[0m \u001b[90mand/or\u001b[0m \u001b[31menjoy\u001b[0m \u001b[31mgreat\u001b[0m \u001b[31mviews\u001b[0m \u001b[90mof\u001b[0m \u001b[90mJuan\u001b[0m \u001b[90mde\u001b[0m \u001b[90mfuca\u001b[0m \u001b[90mstraight.\u001b[0m \u001b[90mThere\u001b[0m \u001b[90mare\u001b[0m \u001b[90mbenches\u001b[0m \u001b[90malong\u001b[0m \u001b[90mthe\u001b[0m \u001b[90mlook\u001b[0m\n",
      "\u001b[90mouts\u001b[0m \u001b[90mand\u001b[0m \u001b[90meven\u001b[0m \u001b[90ma\u001b[0m \u001b[90mpicnic\u001b[0m \u001b[90marea.\u001b[0m \u001b[90mThe\u001b[0m \u001b[31mpark\u001b[0m \u001b[90msigns\u001b[0m \u001b[90msay\u001b[0m \u001b[90mthe\u001b[0m \u001b[31mpark\u001b[0m \u001b[90mis\u001b[0m \u001b[90monly\u001b[0m \u001b[90mopen\u001b[0m \u001b[90mfrom\u001b[0m \u001b[90mdawn\u001b[0m \u001b[90mto\u001b[0m\n",
      "\u001b[90mdusk\u001b[0m \u001b[90mhowever.\u001b[0m \u001b[90mOverall\u001b[0m \u001b[90ma\u001b[0m \u001b[90mreally\u001b[0m \u001b[90mnice\u001b[0m \u001b[31mpark\u001b[0m \u001b[90mwell\u001b[0m \u001b[90mworth\u001b[0m \u001b[90mthe\u001b[0m \u001b[90mvisit.\u001b[0m\n",
      "\n",
      "\n",
      "Cadboro-Gyro Park\n",
      "------------------\n",
      "\u001b[90mAmazing\u001b[0m \u001b[90mbeachfront\u001b[0m \u001b[31mpark\u001b[0m \u001b[90mwith\u001b[0m \u001b[90msoft\u001b[0m \u001b[90msand\u001b[0m \u001b[90mand\u001b[0m \u001b[90ma\u001b[0m \u001b[31mgreat\u001b[0m \u001b[90mplayground.\u001b[0m \u001b[90mPerfect\u001b[0m \u001b[90mfor\u001b[0m \u001b[90ma\u001b[0m \u001b[90mpicnic\u001b[0m \u001b[90mwith\u001b[0m \u001b[90mseveral\u001b[0m\n",
      "\u001b[90mtables.\u001b[0m \u001b[90mAn\u001b[0m \u001b[90mideal\u001b[0m \u001b[31mplace\u001b[0m \u001b[90mfor\u001b[0m \u001b[90mfamilies\u001b[0m \u001b[90mwith\u001b[0m \u001b[90mkids.\u001b[0m \u001b[90mThe\u001b[0m \u001b[90mplayground\u001b[0m \u001b[90mhas\u001b[0m \u001b[90mswings\u001b[0m \u001b[90mfor\u001b[0m \u001b[90mlittle\u001b[0m \u001b[90mkids\u001b[0m \u001b[90mand\u001b[0m \u001b[90mbig\u001b[0m\n",
      "\u001b[90mkids,\u001b[0m \u001b[90ma\u001b[0m \u001b[90mfew\u001b[0m \u001b[90mclimbable\u001b[0m \u001b[90msea\u001b[0m \u001b[90mmonsters\u001b[0m \u001b[90mand\u001b[0m \u001b[90msea\u001b[0m \u001b[90mcreatures,\u001b[0m \u001b[90mand\u001b[0m \u001b[90ma\u001b[0m \u001b[31mgreat\u001b[0m \u001b[90mpirate\u001b[0m \u001b[90mship\u001b[0m \u001b[90mwith\u001b[0m \u001b[90ma\u001b[0m \u001b[90mplank!\u001b[0m\n",
      "\u001b[90mMost\u001b[0m \u001b[90mimportantly,\u001b[0m \u001b[90mthere\u001b[0m \u001b[90mis\u001b[0m \u001b[90ma\u001b[0m \u001b[90mwashroom\u001b[0m \u001b[90mright\u001b[0m \u001b[90mnext\u001b[0m \u001b[90mto\u001b[0m \u001b[90mthe\u001b[0m \u001b[90mplay\u001b[0m \u001b[90marea\u001b[0m \u001b[90mwith\u001b[0m \u001b[90mwater\u001b[0m \u001b[90mbottle\u001b[0m \u001b[90mrefill\u001b[0m\n",
      "\u001b[90mstation\u001b[0m \u001b[90mand\u001b[0m \u001b[90mrinse-off\u001b[0m \u001b[90mstation\u001b[0m \u001b[90mfor\u001b[0m \u001b[90msandy\u001b[0m \u001b[90mlittle\u001b[0m \u001b[90mtoes.\u001b[0m \u001b[90mOur\u001b[0m \u001b[90mson\u001b[0m \u001b[90mloved\u001b[0m \u001b[90mthis\u001b[0m \u001b[31mpark\u001b[0m \u001b[90mand\u001b[0m \u001b[90mso\u001b[0m \u001b[90mdid\u001b[0m \u001b[90mwe!\u001b[0m\n",
      "\u001b[90mOne\u001b[0m \u001b[90mof\u001b[0m \u001b[90mthe\u001b[0m \u001b[90mbest\u001b[0m \u001b[90mplaygrounds\u001b[0m \u001b[90mI’ve\u001b[0m \u001b[90mbeen\u001b[0m \u001b[90mto!\u001b[0m \u001b[90mOctopus\u001b[0m \u001b[90mslides,\u001b[0m \u001b[90mwhale\u001b[0m \u001b[90mand\u001b[0m \u001b[90msea\u001b[0m \u001b[90mserpent\u001b[0m \u001b[90mclimbing\u001b[0m \u001b[90mstructures,\u001b[0m\n",
      "\u001b[90mand\u001b[0m \u001b[90mmany\u001b[0m \u001b[90mmore\u001b[0m \u001b[90mocean-themed\u001b[0m \u001b[90moriginal\u001b[0m \u001b[90mcreations.\u001b[0m \u001b[90mThe\u001b[0m \u001b[31mbeach\u001b[0m \u001b[90mitself\u001b[0m \u001b[90mis\u001b[0m \u001b[90msandy\u001b[0m \u001b[90mand\u001b[0m \u001b[90mclean.\u001b[0m \u001b[90mWhat\u001b[0m \u001b[90ma\u001b[0m \u001b[90mbeautiful\u001b[0m\n",
      "\u001b[90mpark!\u001b[0m \u001b[90mBeautiful\u001b[0m \u001b[31mpark\u001b[0m \u001b[90mand\u001b[0m \u001b[90mbeach.\u001b[0m \u001b[90mIt\u001b[0m \u001b[90mhas\u001b[0m \u001b[90meverything\u001b[0m \u001b[90mthat\u001b[0m \u001b[90ma\u001b[0m \u001b[90mfamily\u001b[0m \u001b[90mcan\u001b[0m \u001b[90menjoy.\u001b[0m \u001b[31mI\u001b[0m \u001b[90mcan\u001b[0m \u001b[90mspend\u001b[0m \u001b[90ma\u001b[0m\n",
      "\u001b[90mwhole\u001b[0m \u001b[90mday\u001b[0m \u001b[90min\u001b[0m \u001b[90mthat\u001b[0m \u001b[90mpark.\u001b[0m \u001b[90mLove\u001b[0m \u001b[90mthat\u001b[0m \u001b[90mthey\u001b[0m \u001b[90malso\u001b[0m \u001b[90mhave\u001b[0m \u001b[90mzipline.\u001b[0m \u001b[90mOur\u001b[0m \u001b[31mfavourite\u001b[0m \u001b[31mbeach\u001b[0m \u001b[90mand\u001b[0m \u001b[31mpark\u001b[0m \u001b[90mto\u001b[0m\n",
      "\u001b[90mvisit\u001b[0m \u001b[90mwhen\u001b[0m \u001b[90min\u001b[0m \u001b[90mVictoria.\u001b[0m \u001b[90mWhile\u001b[0m \u001b[90mbusy\u001b[0m \u001b[90mat\u001b[0m \u001b[90mtimes,\u001b[0m \u001b[90mthe\u001b[0m \u001b[31mbeach\u001b[0m \u001b[90mhas\u001b[0m \u001b[90ma\u001b[0m \u001b[90mtranquil\u001b[0m \u001b[90mvibe.\u001b[0m \u001b[90mGreat\u001b[0m \u001b[90mfor\u001b[0m \u001b[90mkids\u001b[0m\n",
      "\u001b[90mand\u001b[0m \u001b[90mfor\u001b[0m \u001b[90mchill\u001b[0m \u001b[90mget-togethers\u001b[0m \u001b[90mwith\u001b[0m \u001b[90mfriends\u001b[0m \u001b[90mand\u001b[0m \u001b[90mfamily.\u001b[0m \u001b[90mCadboro\u001b[0m \u001b[90mGyro\u001b[0m \u001b[90mPark\u001b[0m \u001b[90mis\u001b[0m \u001b[90ma\u001b[0m \u001b[31mgreat\u001b[0m \u001b[31mplace\u001b[0m \u001b[90mto\u001b[0m \u001b[90mvisit\u001b[0m\n",
      "\u001b[90min\u001b[0m \u001b[90mVictoria,\u001b[0m \u001b[90mBritish\u001b[0m \u001b[90mColumbia.\u001b[0m \u001b[90mIt\u001b[0m \u001b[90mhas\u001b[0m \u001b[90ma\u001b[0m \u001b[90mbeautiful\u001b[0m \u001b[31mbeach\u001b[0m \u001b[90mwith\u001b[0m \u001b[90msoft\u001b[0m \u001b[90msand\u001b[0m \u001b[90mand\u001b[0m \u001b[90ma\u001b[0m \u001b[90msection\u001b[0m \u001b[90mfor\u001b[0m \u001b[90mdogs\u001b[0m\n",
      "\u001b[90mand\u001b[0m \u001b[90manother\u001b[0m \u001b[90msection\u001b[0m \u001b[90mfor\u001b[0m \u001b[90mkids\u001b[0m \u001b[90mto\u001b[0m \u001b[90mplay\u001b[0m \u001b[90mwithout\u001b[0m \u001b[90mdogs.\u001b[0m \u001b[90mThe\u001b[0m \u001b[90mplayground\u001b[0m \u001b[90mis\u001b[0m \u001b[90mreally\u001b[0m \u001b[90mfun\u001b[0m \u001b[90mand\u001b[0m \u001b[90mboasts\u001b[0m \u001b[90ma\u001b[0m\n",
      "\u001b[90mkiddie\u001b[0m \u001b[90mzip\u001b[0m \u001b[90mline.\u001b[0m \u001b[90mThere\u001b[0m \u001b[90mare\u001b[0m \u001b[90malso\u001b[0m \u001b[90mpicnic\u001b[0m \u001b[90mtables\u001b[0m \u001b[90mand\u001b[0m \u001b[90ma\u001b[0m \u001b[90mlarge\u001b[0m \u001b[90mgrassy\u001b[0m \u001b[90marea\u001b[0m \u001b[90mwith\u001b[0m \u001b[90mwashrooms.\u001b[0m \u001b[90mIt’s\u001b[0m \u001b[90ma\u001b[0m\n",
      "\u001b[31mgreat\u001b[0m \u001b[90mfamily\u001b[0m \u001b[31mpark\u001b[0m \u001b[90mat\u001b[0m \u001b[90mthe\u001b[0m \u001b[31mbeach\u001b[0m \u001b[90mwith\u001b[0m \u001b[90mfree\u001b[0m \u001b[90mparking\u001b[0m \u001b[90mlot\u001b[0m\n",
      "\n",
      "\n",
      "Royal BC Museum\n",
      "------------------\n",
      "\u001b[90mGreat\u001b[0m \u001b[90mmuseum\u001b[0m \u001b[90mhas\u001b[0m \u001b[90mvery\u001b[0m \u001b[90mnice\u001b[0m \u001b[90mand\u001b[0m \u001b[90mextensive\u001b[0m \u001b[90mexhibits.\u001b[0m \u001b[31mI\u001b[0m \u001b[90mwent\u001b[0m \u001b[90mthere\u001b[0m \u001b[90mwhen\u001b[0m \u001b[90mthey\u001b[0m \u001b[90mhad\u001b[0m \u001b[90mthe\u001b[0m \u001b[90mwildlife\u001b[0m \u001b[90mphoto-\n",
      "journalism\u001b[0m \u001b[90mexhibit\u001b[0m \u001b[90mwhich\u001b[0m \u001b[90mwas\u001b[0m \u001b[90ma\u001b[0m \u001b[90minteresting\u001b[0m \u001b[90mone.\u001b[0m \u001b[90mIt\u001b[0m \u001b[90mwasn’t\u001b[0m \u001b[90mbusy\u001b[0m \u001b[90mwhatsoever\u001b[0m \u001b[90mbut\u001b[0m \u001b[31mI\u001b[0m \u001b[90mdid\u001b[0m \u001b[90mgo\u001b[0m \u001b[90mon\u001b[0m \u001b[90ma\u001b[0m\n",
      "\u001b[90mrainy\u001b[0m \u001b[90mSunday\u001b[0m \u001b[90maround\u001b[0m \u001b[90m3:00.\u001b[0m \u001b[90mWould\u001b[0m \u001b[90mdefinitely\u001b[0m \u001b[90mrecommend\u001b[0m \u001b[90mgoing.\u001b[0m \u001b[90mIt\u001b[0m \u001b[90malso\u001b[0m \u001b[90mseems\u001b[0m \u001b[90mlike\u001b[0m \u001b[90mthere\u001b[0m \u001b[90mwas\u001b[0m \u001b[90ma\u001b[0m \u001b[90mthird\u001b[0m\n",
      "\u001b[90mfloor\u001b[0m \u001b[90mexhibit\u001b[0m \u001b[90mbut\u001b[0m \u001b[90mfor\u001b[0m \u001b[90msome\u001b[0m \u001b[90mreason\u001b[0m \u001b[90mit’s\u001b[0m \u001b[90mclosed\u001b[0m \u001b[90mand\u001b[0m \u001b[31mI\u001b[0m \u001b[90mdon’t\u001b[0m \u001b[90mknow\u001b[0m \u001b[90mwhy.\u001b[0m \u001b[90mMaybe\u001b[0m \u001b[90mit\u001b[0m \u001b[90mwill\u001b[0m \u001b[90mbe\u001b[0m\n",
      "\u001b[90mopen\u001b[0m \u001b[90msometime\u001b[0m \u001b[90min\u001b[0m \u001b[90mthe\u001b[0m \u001b[90mfuture.\u001b[0m \u001b[90mThe\u001b[0m \u001b[90mGrand\u001b[0m \u001b[90mDame\u001b[0m \u001b[90mof\u001b[0m \u001b[90mMuseums\u001b[0m \u001b[90min\u001b[0m \u001b[90mVictoria,\u001b[0m \u001b[90mBC.\u001b[0m \u001b[90mIn\u001b[0m \u001b[90mthe\u001b[0m \u001b[90mheart\u001b[0m \u001b[90mof\u001b[0m\n",
      "\u001b[90mthe\u001b[0m \u001b[90mcity;\u001b[0m \u001b[90mnext\u001b[0m \u001b[90mto\u001b[0m \u001b[90mthe\u001b[0m \u001b[90mIconic\u001b[0m \u001b[90mEmpress\u001b[0m \u001b[90mHotel\u001b[0m \u001b[90mand\u001b[0m \u001b[90macross\u001b[0m \u001b[90mfrom\u001b[0m \u001b[90mthe\u001b[0m \u001b[90mFamed\u001b[0m \u001b[90mVictoria\u001b[0m \u001b[90mHarbour.\u001b[0m \u001b[90mThe\u001b[0m\n",
      "\u001b[90mdisplays\u001b[0m \u001b[90min\u001b[0m \u001b[90mthe\u001b[0m \u001b[90mdifferent\u001b[0m \u001b[90mthemed\u001b[0m \u001b[90mexhibits\u001b[0m \u001b[90mare\u001b[0m \u001b[90mawesome!\u001b[0m \u001b[90mThe\u001b[0m \u001b[90mextensive\u001b[0m \u001b[90minformation\u001b[0m \u001b[90mand\u001b[0m \u001b[90mdetail\u001b[0m \u001b[90min\u001b[0m \u001b[90mthe\u001b[0m\n",
      "\u001b[90mdisplays\u001b[0m \u001b[90mis\u001b[0m \u001b[90mfabulous.\u001b[0m \u001b[90mPlan\u001b[0m \u001b[90mon\u001b[0m \u001b[90mspending\u001b[0m \u001b[90ma\u001b[0m \u001b[90mminimum\u001b[0m \u001b[90mof\u001b[0m \u001b[90mthree\u001b[0m \u001b[90mhours;\u001b[0m \u001b[90mmore,\u001b[0m \u001b[90mif\u001b[0m \u001b[90myour\u001b[0m \u001b[90ma\u001b[0m \u001b[31mhistory\u001b[0m \u001b[90mbuff!\u001b[0m\n",
      "\u001b[90mThis\u001b[0m \u001b[90mis\u001b[0m \u001b[90mone\u001b[0m \u001b[90mof\u001b[0m \u001b[90mthe\u001b[0m \u001b[90mbest\u001b[0m \u001b[31mmuseums\u001b[0m \u001b[90mwe\u001b[0m \u001b[90mhave\u001b[0m \u001b[90mvisited.\u001b[0m \u001b[90mIt\u001b[0m \u001b[90mhas\u001b[0m \u001b[90mnatural\u001b[0m \u001b[90mhistory,\u001b[0m \u001b[90mart,\u001b[0m \u001b[90mFirst\u001b[0m \u001b[90mPeople\u001b[0m\n",
      "\u001b[90mcultural\u001b[0m \u001b[90mhistory,\u001b[0m \u001b[90mand\u001b[0m \u001b[90man\u001b[0m \u001b[90minteractive\u001b[0m \u001b[90mtown/ship/\u001b[0m \u001b[90mmine\u001b[0m \u001b[90mfrom\u001b[0m \u001b[90mBritish\u001b[0m \u001b[90mcolonial\u001b[0m \u001b[90mhistory.\u001b[0m \u001b[90mReally\u001b[0m \u001b[90mgreat.\u001b[0m \u001b[90mTwo\u001b[0m \u001b[90mweeks\u001b[0m\n",
      "\u001b[90mago,\u001b[0m \u001b[90mthat\u001b[0m \u001b[90msection\u001b[0m \u001b[90mwas\u001b[0m \u001b[90mclosed\u001b[0m \u001b[90mfor\u001b[0m \u001b[90mremodel.\u001b[0m \u001b[31mI'm\u001b[0m \u001b[90mhoping\u001b[0m \u001b[90mit\u001b[0m \u001b[90mis\u001b[0m \u001b[90mstill\u001b[0m \u001b[90mas\u001b[0m \u001b[90mawesome\u001b[0m \u001b[90mas\u001b[0m \u001b[90mever\u001b[0m \u001b[90mwhen\u001b[0m\n",
      "\u001b[90mit\u001b[0m \u001b[90mreopens.\u001b[0m \u001b[90mGreat\u001b[0m \u001b[31mplace\u001b[0m \u001b[90mto\u001b[0m \u001b[90mvisit\u001b[0m \u001b[90mand\u001b[0m \u001b[31mlearn\u001b[0m \u001b[90mabout\u001b[0m \u001b[90mthe\u001b[0m \u001b[90mice\u001b[0m \u001b[90mage\u001b[0m \u001b[90mand\u001b[0m \u001b[90mstuff.\u001b[0m \u001b[90mThey\u001b[0m \u001b[90meven\u001b[0m \u001b[90mhad\u001b[0m \u001b[90ma\u001b[0m\n",
      "\u001b[90mshowing\u001b[0m \u001b[90mof\u001b[0m \u001b[90mcovid\u001b[0m \u001b[90mportraits\u001b[0m \u001b[90mwhich\u001b[0m \u001b[90mwas\u001b[0m \u001b[90mcool.\u001b[0m \u001b[90mLikes:\u001b[0m \u001b[90mit\u001b[0m \u001b[90mwas\u001b[0m \u001b[90mcheap.\u001b[0m \u001b[90m$5\u001b[0m \u001b[90mper\u001b[0m \u001b[90mperson\u001b[0m \u001b[90mand\u001b[0m \u001b[90mit\u001b[0m \u001b[90mwas\u001b[0m\n",
      "\u001b[90mabsolutely\u001b[0m \u001b[90mworth\u001b[0m \u001b[90mit.\u001b[0m \u001b[90mLots\u001b[0m \u001b[90mto\u001b[0m \u001b[90msee\u001b[0m \u001b[90mand\u001b[0m \u001b[90mlearn.\u001b[0m \u001b[90mDislikes:\u001b[0m \u001b[90mNothing\u001b[0m \u001b[31mI\u001b[0m \u001b[90mcan\u001b[0m \u001b[90mthink\u001b[0m \u001b[90mof\u001b[0m \u001b[90mMust\u001b[0m \u001b[90mvisit!!\u001b[0m \u001b[90mBut\u001b[0m\n",
      "\u001b[90mset\u001b[0m \u001b[90maside\u001b[0m \u001b[90mat\u001b[0m \u001b[90mleast\u001b[0m \u001b[90m3\u001b[0m \u001b[90mhours\u001b[0m \u001b[90mfor\u001b[0m \u001b[90mthis\u001b[0m \u001b[90mplace.\u001b[0m \u001b[90mOn\u001b[0m \u001b[90mSaturdays(Summers\u001b[0m \u001b[31mI\u001b[0m \u001b[90mthink)\u001b[0m \u001b[90mthey\u001b[0m \u001b[90mare\u001b[0m \u001b[90mopen\u001b[0m \u001b[90muntil\u001b[0m\n",
      "\u001b[90m10pm,\u001b[0m \u001b[90mwhich\u001b[0m \u001b[90mworked\u001b[0m \u001b[90min\u001b[0m \u001b[90mour\u001b[0m \u001b[90mfavour.There\u001b[0m \u001b[90mis\u001b[0m \u001b[90mso\u001b[0m \u001b[90mmuch\u001b[0m \u001b[90minformation\u001b[0m \u001b[90mto\u001b[0m \u001b[90mabsorb\u001b[0m \u001b[90min\u001b[0m \u001b[90mlimited\u001b[0m \u001b[90mtime.\u001b[0m \u001b[90mDuring\u001b[0m\n",
      "\u001b[90mour\u001b[0m \u001b[90mvisit\u001b[0m \u001b[90m-\u001b[0m \u001b[90mThe\u001b[0m \u001b[90mfirst\u001b[0m \u001b[90mfloor\u001b[0m \u001b[90mwas\u001b[0m \u001b[90mdedicated\u001b[0m \u001b[90mfor\u001b[0m \u001b[90mFirst\u001b[0m \u001b[90mNations,\u001b[0m \u001b[90mSecond\u001b[0m \u001b[90mfloor\u001b[0m \u001b[90mof\u001b[0m \u001b[90mAnimal\u001b[0m \u001b[90mevolution,\u001b[0m\n",
      "\u001b[90mThird\u001b[0m \u001b[90mfloor\u001b[0m \u001b[90mwas\u001b[0m \u001b[90mset\u001b[0m \u001b[90maside\u001b[0m \u001b[90mfor\u001b[0m \u001b[90mStu\u001b[0m \u001b[90mthe\u001b[0m \u001b[90mdinosaur\u001b[0m \u001b[90m(T-Rex\u001b[0m \u001b[90mfossil\u001b[0m \u001b[90mdiscovered\u001b[0m \u001b[90min\u001b[0m \u001b[90mCanada)\u001b[0m \u001b[90mand\u001b[0m \u001b[90mthe\u001b[0m\n",
      "\u001b[90mrelated\u001b[0m \u001b[90mdiscoveries.\u001b[0m \u001b[90mWe\u001b[0m \u001b[90malso\u001b[0m \u001b[90mhad\u001b[0m \u001b[90mthe\u001b[0m \u001b[90mopportunity\u001b[0m \u001b[90mto\u001b[0m \u001b[90mvisit\u001b[0m \u001b[90m-The\u001b[0m \u001b[90mAngkor\u001b[0m \u001b[90mwat\u001b[0m \u001b[90mdisplay-\u001b[0m \u001b[90mwhich\u001b[0m \u001b[90mwas\u001b[0m \u001b[90mexcellent,\u001b[0m\n",
      "\u001b[90mbut\u001b[0m \u001b[90mmany\u001b[0m \u001b[90mof\u001b[0m \u001b[90mthe\u001b[0m \u001b[90midols\u001b[0m \u001b[90mwere\u001b[0m \u001b[90mmissing\u001b[0m \u001b[90mparts\u001b[0m \u001b[90mwhile\u001b[0m \u001b[90mon\u001b[0m \u001b[90mexhibition\u001b[0m \u001b[90m:(.\u001b[0m \u001b[90mThe\u001b[0m \u001b[90mmuseum\u001b[0m \u001b[90mis\u001b[0m \u001b[90mwell-maintained,\u001b[0m\n",
      "\u001b[90mclean,\u001b[0m \u001b[90mwheelchair\u001b[0m \u001b[90maccessible\u001b[0m \u001b[90mand\u001b[0m \u001b[90mhas\u001b[0m \u001b[90mvery\u001b[0m \u001b[90mfriendly\u001b[0m \u001b[90mstaff.\u001b[0m\n",
      "\n",
      "\n"
     ]
    }
   ],
   "source": [
    "from textwrap import wrap\n",
    "reset = \"\\x1b[0m\"\n",
    "blue = \"\\x1b[34m\"\n",
    "red = \"\\x1b[31m\"\n",
    "gray = \"\\x1b[90m\"\n",
    "# print the reviews in the recommended DataFrame but in a way that the text fits in the notebook cell output\n",
    "for index, row in recommended.iterrows():\n",
    "    print(row['name'])\n",
    "    print(\"------------------\")\n",
    "\n",
    "    words = row['reviews'].split()\n",
    "    highlighted = [red + word + reset if word in user_input_no_stop.split() else gray + word + reset for word in words]\n",
    "\n",
    "    print('\\n'.join(wrap(\" \".join(highlighted), 250)))\n",
    "    print('\\n')"
   ]
  },
  {
   "attachments": {},
   "cell_type": "markdown",
   "metadata": {},
   "source": [
    "## Conclusion"
   ]
  },
  {
   "attachments": {},
   "cell_type": "markdown",
   "metadata": {},
   "source": [
    "While this is one approach for making recomendations it has some serious pitfalls.\n",
    "\n",
    "Once of which is that the model does not understand negative sentiment in the user input. For example, if a user says that they dont' like a certain activity the model will not take that into account.\n",
    "\n",
    "Anothe issue is that the model is using naive tokens. i.e single words and is unable to distinguish between someone saying \"great sunset\" or \"great food\"."
   ]
  }
 ],
 "metadata": {
  "kernelspec": {
   "display_name": "base",
   "language": "python",
   "name": "python3"
  },
  "language_info": {
   "codemirror_mode": {
    "name": "ipython",
    "version": 3
   },
   "file_extension": ".py",
   "mimetype": "text/x-python",
   "name": "python",
   "nbconvert_exporter": "python",
   "pygments_lexer": "ipython3",
   "version": "3.10.9"
  },
  "orig_nbformat": 4
 },
 "nbformat": 4,
 "nbformat_minor": 2
}
