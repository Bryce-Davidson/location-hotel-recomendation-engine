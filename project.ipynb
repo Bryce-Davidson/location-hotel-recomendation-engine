{
 "cells": [
  {
   "cell_type": "code",
   "execution_count": null,
   "metadata": {},
   "outputs": [],
   "source": [
    "import os\n",
    "from dotenv import load_dotenv\n",
    "OPENAI_API_KEY = os.getenv(\"OPENAI_API_KEY\")"
   ]
  },
  {
   "cell_type": "code",
   "execution_count": 1,
   "metadata": {},
   "outputs": [],
   "source": [
    "import pandas as pd\n",
    "import numpy as np\n",
    "import matplotlib.pyplot as plt"
   ]
  },
  {
   "cell_type": "code",
   "execution_count": 2,
   "metadata": {},
   "outputs": [],
   "source": [
    "# load the data\n",
    "df_locations = pd.read_csv('./locations.csv')\n",
    "df_hotels = pd.read_csv('./hotels.csv')"
   ]
  },
  {
   "cell_type": "code",
   "execution_count": 8,
   "metadata": {},
   "outputs": [],
   "source": [
    "import openai\n",
    "# Set the API key\n",
    "openai.api_key = OPENAI_API_KEY\n",
    "# create a function to generate the text\n",
    "\n",
    "def generate_summary(name, text):\n",
    "    response = openai.ChatCompletion.create(\n",
    "    model=\"gpt-3.5-turbo\",\n",
    "    messages=[\n",
    "            {\"role\": \"system\", \"content\": \"You are an Imputer for a dataframe. This dataframe contains the name of a location in Victoria, BC Canada multiple reviews of the location. Each review is separated by three newline characters. \\n Your job is to use what you know about the location as well as the reviews to come up with a summary of the location. \\n\"},\n",
    "            {\"role\": \"user\", \"content\": f\"name: {name}\\n reviews: {text}\"},\n",
    "        ],\n",
    "    frequency_penalty=0.8,\n",
    "    temperature=0.3,\n",
    "    max_tokens=500,\n",
    "    top_p=0.8,\n",
    "    )\n",
    "    return response.choices[0].message.content\n"
   ]
  },
  {
   "cell_type": "code",
   "execution_count": 10,
   "metadata": {},
   "outputs": [],
   "source": [
    "name = df_hotels.iloc[0]['name']\n",
    "text = df_hotels.iloc[0]['reviews']\n",
    "\n",
    "summary = generate_summary(name, text)"
   ]
  },
  {
   "cell_type": "code",
   "execution_count": 11,
   "metadata": {},
   "outputs": [],
   "source": [
    "# write the summary text to a file\n",
    "with open('summary.txt', 'w') as f:\n",
    "    f.write(summary)"
   ]
  }
 ],
 "metadata": {
  "kernelspec": {
   "display_name": "base",
   "language": "python",
   "name": "python3"
  },
  "language_info": {
   "codemirror_mode": {
    "name": "ipython",
    "version": 3
   },
   "file_extension": ".py",
   "mimetype": "text/x-python",
   "name": "python",
   "nbconvert_exporter": "python",
   "pygments_lexer": "ipython3",
   "version": "3.10.9"
  },
  "orig_nbformat": 4
 },
 "nbformat": 4,
 "nbformat_minor": 2
}
