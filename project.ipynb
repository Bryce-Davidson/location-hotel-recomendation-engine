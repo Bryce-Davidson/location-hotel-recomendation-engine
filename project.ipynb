{
 "cells": [
  {
   "cell_type": "code",
   "execution_count": 939,
   "metadata": {},
   "outputs": [],
   "source": [
    "import os\n",
    "from dotenv import load_dotenv\n",
    "load_dotenv()\n",
    "OPENAI_API_KEY = os.getenv(\"OPENAI_API_KEY\")"
   ]
  },
  {
   "cell_type": "code",
   "execution_count": 940,
   "metadata": {},
   "outputs": [],
   "source": [
    "import pandas as pd\n",
    "import numpy as np\n",
    "import matplotlib.pyplot as plt"
   ]
  },
  {
   "cell_type": "code",
   "execution_count": 941,
   "metadata": {},
   "outputs": [],
   "source": [
    "# load the data\n",
    "df_locations = pd.read_csv('./locations.csv')"
   ]
  },
  {
   "attachments": {},
   "cell_type": "markdown",
   "metadata": {},
   "source": [
    "# Locations"
   ]
  },
  {
   "cell_type": "code",
   "execution_count": 942,
   "metadata": {},
   "outputs": [
    {
     "data": {
      "text/html": [
       "<div>\n",
       "<style scoped>\n",
       "    .dataframe tbody tr th:only-of-type {\n",
       "        vertical-align: middle;\n",
       "    }\n",
       "\n",
       "    .dataframe tbody tr th {\n",
       "        vertical-align: top;\n",
       "    }\n",
       "\n",
       "    .dataframe thead th {\n",
       "        text-align: right;\n",
       "    }\n",
       "</style>\n",
       "<table border=\"1\" class=\"dataframe\">\n",
       "  <thead>\n",
       "    <tr style=\"text-align: right;\">\n",
       "      <th></th>\n",
       "      <th>place_id</th>\n",
       "      <th>name</th>\n",
       "      <th>avg_rating</th>\n",
       "      <th>lat</th>\n",
       "      <th>lng</th>\n",
       "      <th>user_ratings_total</th>\n",
       "      <th>reviews</th>\n",
       "    </tr>\n",
       "  </thead>\n",
       "  <tbody>\n",
       "    <tr>\n",
       "      <th>0</th>\n",
       "      <td>ChIJ1e5UJJF0j1QR6VpPNf8TYiQ</td>\n",
       "      <td>Royal BC Museum</td>\n",
       "      <td>4.6</td>\n",
       "      <td>48.419811</td>\n",
       "      <td>-123.367450</td>\n",
       "      <td>8658</td>\n",
       "      <td>Great museum has very nice and extensive exhib...</td>\n",
       "    </tr>\n",
       "    <tr>\n",
       "      <th>1</th>\n",
       "      <td>ChIJmXc0Z6J0j1QR4CJUS73dyZk</td>\n",
       "      <td>Fisherman's Wharf Park</td>\n",
       "      <td>4.5</td>\n",
       "      <td>48.421950</td>\n",
       "      <td>-123.383014</td>\n",
       "      <td>7518</td>\n",
       "      <td>A popular tourist attraction on the Victoria w...</td>\n",
       "    </tr>\n",
       "    <tr>\n",
       "      <th>2</th>\n",
       "      <td>ChIJ13vUgIp0j1QRbx3mZXLZILI</td>\n",
       "      <td>Craigdarroch Castle</td>\n",
       "      <td>4.5</td>\n",
       "      <td>48.422629</td>\n",
       "      <td>-123.343723</td>\n",
       "      <td>4836</td>\n",
       "      <td>This is a neat, old castle that was built well...</td>\n",
       "    </tr>\n",
       "    <tr>\n",
       "      <th>3</th>\n",
       "      <td>ChIJa4uQ3-p0j1QRDtSaFQ5NHrQ</td>\n",
       "      <td>Beacon Hill Park</td>\n",
       "      <td>4.7</td>\n",
       "      <td>48.412222</td>\n",
       "      <td>-123.362778</td>\n",
       "      <td>8431</td>\n",
       "      <td>This is a beautiful and well thought-out park....</td>\n",
       "    </tr>\n",
       "    <tr>\n",
       "      <th>4</th>\n",
       "      <td>ChIJS9YYcJB0j1QRPWHIFtwTr18</td>\n",
       "      <td>Victoria Bug Zoo</td>\n",
       "      <td>4.5</td>\n",
       "      <td>48.423300</td>\n",
       "      <td>-123.366668</td>\n",
       "      <td>1821</td>\n",
       "      <td>My daughter and I had a fantastic time at the ...</td>\n",
       "    </tr>\n",
       "  </tbody>\n",
       "</table>\n",
       "</div>"
      ],
      "text/plain": [
       "                      place_id                    name  avg_rating        lat  \\\n",
       "0  ChIJ1e5UJJF0j1QR6VpPNf8TYiQ         Royal BC Museum         4.6  48.419811   \n",
       "1  ChIJmXc0Z6J0j1QR4CJUS73dyZk  Fisherman's Wharf Park         4.5  48.421950   \n",
       "2  ChIJ13vUgIp0j1QRbx3mZXLZILI     Craigdarroch Castle         4.5  48.422629   \n",
       "3  ChIJa4uQ3-p0j1QRDtSaFQ5NHrQ        Beacon Hill Park         4.7  48.412222   \n",
       "4  ChIJS9YYcJB0j1QRPWHIFtwTr18        Victoria Bug Zoo         4.5  48.423300   \n",
       "\n",
       "          lng  user_ratings_total  \\\n",
       "0 -123.367450                8658   \n",
       "1 -123.383014                7518   \n",
       "2 -123.343723                4836   \n",
       "3 -123.362778                8431   \n",
       "4 -123.366668                1821   \n",
       "\n",
       "                                             reviews  \n",
       "0  Great museum has very nice and extensive exhib...  \n",
       "1  A popular tourist attraction on the Victoria w...  \n",
       "2  This is a neat, old castle that was built well...  \n",
       "3  This is a beautiful and well thought-out park....  \n",
       "4  My daughter and I had a fantastic time at the ...  "
      ]
     },
     "execution_count": 942,
     "metadata": {},
     "output_type": "execute_result"
    }
   ],
   "source": [
    "df_locations.head()"
   ]
  },
  {
   "cell_type": "code",
   "execution_count": 943,
   "metadata": {},
   "outputs": [
    {
     "data": {
      "text/plain": [
       "place_id               0\n",
       "name                   0\n",
       "avg_rating             0\n",
       "lat                    0\n",
       "lng                    0\n",
       "user_ratings_total     0\n",
       "reviews               15\n",
       "dtype: int64"
      ]
     },
     "execution_count": 943,
     "metadata": {},
     "output_type": "execute_result"
    }
   ],
   "source": [
    "# look at missing values as a total and a percentage\n",
    "df_locations.isnull().sum()"
   ]
  },
  {
   "cell_type": "code",
   "execution_count": 944,
   "metadata": {},
   "outputs": [],
   "source": [
    "# drop the rows with missing values in reviews\n",
    "df_locations.dropna(subset=['reviews'], inplace=True)"
   ]
  },
  {
   "cell_type": "code",
   "execution_count": 945,
   "metadata": {},
   "outputs": [],
   "source": [
    "# drop rows where the user_ratings_total is < 5\n",
    "df_locations = df_locations[df_locations['user_ratings_total'] >= 5]"
   ]
  },
  {
   "cell_type": "code",
   "execution_count": 946,
   "metadata": {},
   "outputs": [
    {
     "data": {
      "text/plain": [
       "(187, 7)"
      ]
     },
     "execution_count": 946,
     "metadata": {},
     "output_type": "execute_result"
    }
   ],
   "source": [
    "df_locations.shape"
   ]
  },
  {
   "cell_type": "code",
   "execution_count": 947,
   "metadata": {},
   "outputs": [
    {
     "data": {
      "image/png": "[encoded data removed]",
      "text/plain": [
       "<Figure size 640x480 with 1 Axes>"
      ]
     },
     "metadata": {},
     "output_type": "display_data"
    }
   ],
   "source": [
    "# look at the distribution of user_ratings_total\n",
    "plt.hist(df_locations['user_ratings_total'], bins=20)\n",
    "# add an x-axis label\n",
    "plt.xlabel('User Ratings')\n",
    "plt.show()"
   ]
  },
  {
   "cell_type": "code",
   "execution_count": null,
   "metadata": {},
   "outputs": [],
   "source": []
  },
  {
   "cell_type": "code",
   "execution_count": 948,
   "metadata": {},
   "outputs": [
    {
     "data": {
      "image/png": "[encoded data removed]",
      "text/plain": [
       "<Figure size 640x480 with 1 Axes>"
      ]
     },
     "metadata": {},
     "output_type": "display_data"
    }
   ],
   "source": [
    "# plot the CDF of user_ratings_total as a line\n",
    "plt.plot(np.sort(df_locations['user_ratings_total']), np.linspace(0, 1, len(df_locations), endpoint=False))\n",
    "# plot the quartiles as red dashed lines\n",
    "plt.axvline(df_locations['user_ratings_total'].quantile(0.25), color='red', linestyle='dashed', linewidth=1)\n",
    "plt.axvline(df_locations['user_ratings_total'].quantile(0.5), color='red', linestyle='dashed', linewidth=1)\n",
    "plt.axvline(df_locations['user_ratings_total'].quantile(0.75), color='red', linestyle='dashed', linewidth=1)\n",
    "plt.show()"
   ]
  },
  {
   "cell_type": "code",
   "execution_count": 949,
   "metadata": {},
   "outputs": [
    {
     "data": {
      "image/png": "[encoded data removed]",
      "text/plain": [
       "<Figure size 640x480 with 1 Axes>"
      ]
     },
     "metadata": {},
     "output_type": "display_data"
    }
   ],
   "source": [
    "# plot the CDF of user_ratings_total as a line zoomed into 0-1000\n",
    "plt.plot(np.sort(df_locations['user_ratings_total']), np.linspace(0, 1, len(df_locations), endpoint=False))\n",
    "plt.xlim(0, 600)\n",
    "# plot the quartiles as red dashed lines with a label for each quartile\n",
    "plt.axvline(df_locations['user_ratings_total'].quantile(0.25), color='red', linestyle='dashed', linewidth=1, label='Q1')\n",
    "plt.axvline(df_locations['user_ratings_total'].quantile(0.5), color='red', linestyle='dashed', linewidth=1, label='Q2')\n",
    "plt.axvline(df_locations['user_ratings_total'].quantile(0.75), color='red', linestyle='dashed', linewidth=1, label='Q3')\n",
    "\n",
    "# adding fill\n",
    "\n",
    "# fill between 0 and Q1\n",
    "plt.fill_between([0, df_locations['user_ratings_total'].quantile(0.25)], 0, 1, alpha=0.3, color='red')\n",
    "\n",
    "# fill between Q1 and Q2\n",
    "plt.fill_between([df_locations['user_ratings_total'].quantile(0.25), df_locations['user_ratings_total'].quantile(0.5)], 0, 1, alpha=0.3, color='orange')\n",
    "\n",
    "# fill between Q2 and Q3\n",
    "plt.fill_between([df_locations['user_ratings_total'].quantile(0.5), df_locations['user_ratings_total'].quantile(0.75)], 0, 1, alpha=0.3, color='green')\n",
    "\n",
    "# fill between Q3 and max\n",
    "plt.fill_between([df_locations['user_ratings_total'].quantile(0.75), df_locations['user_ratings_total'].max()], 0, 1, alpha=0.3, color='blue')\n",
    "\n",
    "# add the numerical values of the quartiles on the x-axis\n",
    "Q1 = df_locations['user_ratings_total'].quantile(0.25)\n",
    "Q2 = df_locations['user_ratings_total'].quantile(0.5)\n",
    "Q3 = df_locations['user_ratings_total'].quantile(0.75)\n",
    "\n",
    "plt.xticks([Q1, Q2, Q3], [Q1, Q2, Q3])\n",
    "\n",
    "plt.xlabel('User Ratings')\n",
    "plt.show()"
   ]
  },
  {
   "attachments": {},
   "cell_type": "markdown",
   "metadata": {},
   "source": [
    "## Feature Engineering"
   ]
  },
  {
   "attachments": {},
   "cell_type": "markdown",
   "metadata": {},
   "source": [
    "Originally we were going to scale the cosine similarity of the user's input by the average user rating, but after seeing the distribution of the number of reviews we had to come up with a feature which also took into account how many user reveiws there were to achieve that average rating."
   ]
  },
  {
   "attachments": {},
   "cell_type": "markdown",
   "metadata": {},
   "source": [
    "https://www.johndcook.com/blog/2011/09/27/bayesian-amazon/\n",
    "\n",
    "![Probability Liking](./probabilitiy_liking.png)"
   ]
  },
  {
   "attachments": {},
   "cell_type": "markdown",
   "metadata": {},
   "source": [
    "### Q: Which reseller is likely to give the best service?"
   ]
  },
  {
   "attachments": {},
   "cell_type": "markdown",
   "metadata": {},
   "source": [
    "*Thanks to this video by 3blue1brown*\n",
    "\n",
    "https://www.youtube.com/watch?v=8idr1WZ1A7Q"
   ]
  },
  {
   "attachments": {},
   "cell_type": "markdown",
   "metadata": {},
   "source": [
    "#### A: Pretend that there are two more reviews, one positive and one negative, for each reseller. The resulting ratio is your probability of having a good experience with that reseller."
   ]
  },
  {
   "attachments": {},
   "cell_type": "markdown",
   "metadata": {},
   "source": [
    "<img src=\"./prob_liking_graphic.png\" width=\"400\"/>"
   ]
  },
  {
   "attachments": {},
   "cell_type": "markdown",
   "metadata": {},
   "source": [
    "Using this information we can create a feature for each location as the probability of having a good experience."
   ]
  },
  {
   "attachments": {},
   "cell_type": "markdown",
   "metadata": {},
   "source": [
    "### Building the \"probability of enjoying\" feature\n"
   ]
  },
  {
   "cell_type": "code",
   "execution_count": 950,
   "metadata": {},
   "outputs": [],
   "source": [
    "# create a new column in the df_locations dataframe called prob_enjoy\n",
    "for index, row in df_locations.iterrows():\n",
    "    positive_percentage = row['avg_rating'] / 5\n",
    "    \n",
    "    num_positive_reviews = row['user_ratings_total'] * positive_percentage\n",
    "    df_locations.loc[index, 'prob_enjoy'] = (num_positive_reviews + 1) / (row['user_ratings_total'] + 1)"
   ]
  },
  {
   "cell_type": "code",
   "execution_count": 951,
   "metadata": {},
   "outputs": [
    {
     "data": {
      "text/html": [
       "<div>\n",
       "<style scoped>\n",
       "    .dataframe tbody tr th:only-of-type {\n",
       "        vertical-align: middle;\n",
       "    }\n",
       "\n",
       "    .dataframe tbody tr th {\n",
       "        vertical-align: top;\n",
       "    }\n",
       "\n",
       "    .dataframe thead th {\n",
       "        text-align: right;\n",
       "    }\n",
       "</style>\n",
       "<table border=\"1\" class=\"dataframe\">\n",
       "  <thead>\n",
       "    <tr style=\"text-align: right;\">\n",
       "      <th></th>\n",
       "      <th>name</th>\n",
       "      <th>avg_rating</th>\n",
       "      <th>user_ratings_total</th>\n",
       "      <th>prob_enjoy</th>\n",
       "    </tr>\n",
       "  </thead>\n",
       "  <tbody>\n",
       "    <tr>\n",
       "      <th>96</th>\n",
       "      <td>Finlayson Point Beach</td>\n",
       "      <td>5.0</td>\n",
       "      <td>11</td>\n",
       "      <td>1.000000</td>\n",
       "    </tr>\n",
       "    <tr>\n",
       "      <th>31</th>\n",
       "      <td>Rainforest Tours</td>\n",
       "      <td>5.0</td>\n",
       "      <td>10</td>\n",
       "      <td>1.000000</td>\n",
       "    </tr>\n",
       "    <tr>\n",
       "      <th>135</th>\n",
       "      <td>Bagheera Boutique</td>\n",
       "      <td>5.0</td>\n",
       "      <td>9</td>\n",
       "      <td>1.000000</td>\n",
       "    </tr>\n",
       "    <tr>\n",
       "      <th>63</th>\n",
       "      <td>Old Victoria Customs House</td>\n",
       "      <td>5.0</td>\n",
       "      <td>6</td>\n",
       "      <td>1.000000</td>\n",
       "    </tr>\n",
       "    <tr>\n",
       "      <th>57</th>\n",
       "      <td>view of Victoria Harbour</td>\n",
       "      <td>5.0</td>\n",
       "      <td>6</td>\n",
       "      <td>1.000000</td>\n",
       "    </tr>\n",
       "    <tr>\n",
       "      <th>144</th>\n",
       "      <td>The Standout</td>\n",
       "      <td>5.0</td>\n",
       "      <td>5</td>\n",
       "      <td>1.000000</td>\n",
       "    </tr>\n",
       "    <tr>\n",
       "      <th>53</th>\n",
       "      <td>The Breakwater</td>\n",
       "      <td>5.0</td>\n",
       "      <td>8</td>\n",
       "      <td>1.000000</td>\n",
       "    </tr>\n",
       "    <tr>\n",
       "      <th>64</th>\n",
       "      <td>Ross Bay Villa</td>\n",
       "      <td>4.9</td>\n",
       "      <td>10</td>\n",
       "      <td>0.981818</td>\n",
       "    </tr>\n",
       "    <tr>\n",
       "      <th>41</th>\n",
       "      <td>Gate of Harmonious Interest</td>\n",
       "      <td>4.9</td>\n",
       "      <td>14</td>\n",
       "      <td>0.981333</td>\n",
       "    </tr>\n",
       "    <tr>\n",
       "      <th>125</th>\n",
       "      <td>Just For You Fashions Ltd</td>\n",
       "      <td>4.9</td>\n",
       "      <td>16</td>\n",
       "      <td>0.981176</td>\n",
       "    </tr>\n",
       "  </tbody>\n",
       "</table>\n",
       "</div>"
      ],
      "text/plain": [
       "                            name  avg_rating  user_ratings_total  prob_enjoy\n",
       "96         Finlayson Point Beach         5.0                  11    1.000000\n",
       "31              Rainforest Tours         5.0                  10    1.000000\n",
       "135            Bagheera Boutique         5.0                   9    1.000000\n",
       "63    Old Victoria Customs House         5.0                   6    1.000000\n",
       "57      view of Victoria Harbour         5.0                   6    1.000000\n",
       "144                 The Standout         5.0                   5    1.000000\n",
       "53                The Breakwater         5.0                   8    1.000000\n",
       "64                Ross Bay Villa         4.9                  10    0.981818\n",
       "41   Gate of Harmonious Interest         4.9                  14    0.981333\n",
       "125    Just For You Fashions Ltd         4.9                  16    0.981176"
      ]
     },
     "execution_count": 951,
     "metadata": {},
     "output_type": "execute_result"
    }
   ],
   "source": [
    "# sort according to prob_enjoy\n",
    "df_locations[[\"name\", \"avg_rating\", \"user_ratings_total\", \"prob_enjoy\"]].sort_values(by=['prob_enjoy'], ascending=False, inplace=False).head(10)"
   ]
  },
  {
   "attachments": {},
   "cell_type": "markdown",
   "metadata": {},
   "source": [
    "## Building the Model"
   ]
  },
  {
   "cell_type": "code",
   "execution_count": 952,
   "metadata": {},
   "outputs": [
    {
     "data": {
      "text/html": [
       "<div>\n",
       "<style scoped>\n",
       "    .dataframe tbody tr th:only-of-type {\n",
       "        vertical-align: middle;\n",
       "    }\n",
       "\n",
       "    .dataframe tbody tr th {\n",
       "        vertical-align: top;\n",
       "    }\n",
       "\n",
       "    .dataframe thead th {\n",
       "        text-align: right;\n",
       "    }\n",
       "</style>\n",
       "<table border=\"1\" class=\"dataframe\">\n",
       "  <thead>\n",
       "    <tr style=\"text-align: right;\">\n",
       "      <th></th>\n",
       "      <th>00</th>\n",
       "      <th>10</th>\n",
       "      <th>100</th>\n",
       "      <th>10am</th>\n",
       "      <th>10pm</th>\n",
       "      <th>11</th>\n",
       "      <th>11am</th>\n",
       "      <th>11pm</th>\n",
       "      <th>12</th>\n",
       "      <th>14</th>\n",
       "      <th>...</th>\n",
       "      <th>yukon</th>\n",
       "      <th>yummy</th>\n",
       "      <th>yyj</th>\n",
       "      <th>zara</th>\n",
       "      <th>zero</th>\n",
       "      <th>zesty</th>\n",
       "      <th>zip</th>\n",
       "      <th>zipline</th>\n",
       "      <th>zoo</th>\n",
       "      <th>zoom</th>\n",
       "    </tr>\n",
       "  </thead>\n",
       "  <tbody>\n",
       "    <tr>\n",
       "      <th>0</th>\n",
       "      <td>0.069725</td>\n",
       "      <td>0.0</td>\n",
       "      <td>0.0</td>\n",
       "      <td>0.0</td>\n",
       "      <td>0.092977</td>\n",
       "      <td>0.0</td>\n",
       "      <td>0.0</td>\n",
       "      <td>0.0</td>\n",
       "      <td>0.00000</td>\n",
       "      <td>0.0</td>\n",
       "      <td>...</td>\n",
       "      <td>0.0</td>\n",
       "      <td>0.0</td>\n",
       "      <td>0.0</td>\n",
       "      <td>0.0</td>\n",
       "      <td>0.0</td>\n",
       "      <td>0.0</td>\n",
       "      <td>0.0</td>\n",
       "      <td>0.0</td>\n",
       "      <td>0.000000</td>\n",
       "      <td>0.0</td>\n",
       "    </tr>\n",
       "    <tr>\n",
       "      <th>1</th>\n",
       "      <td>0.000000</td>\n",
       "      <td>0.0</td>\n",
       "      <td>0.0</td>\n",
       "      <td>0.0</td>\n",
       "      <td>0.000000</td>\n",
       "      <td>0.0</td>\n",
       "      <td>0.0</td>\n",
       "      <td>0.0</td>\n",
       "      <td>0.06095</td>\n",
       "      <td>0.0</td>\n",
       "      <td>...</td>\n",
       "      <td>0.0</td>\n",
       "      <td>0.0</td>\n",
       "      <td>0.0</td>\n",
       "      <td>0.0</td>\n",
       "      <td>0.0</td>\n",
       "      <td>0.0</td>\n",
       "      <td>0.0</td>\n",
       "      <td>0.0</td>\n",
       "      <td>0.000000</td>\n",
       "      <td>0.0</td>\n",
       "    </tr>\n",
       "    <tr>\n",
       "      <th>2</th>\n",
       "      <td>0.000000</td>\n",
       "      <td>0.0</td>\n",
       "      <td>0.0</td>\n",
       "      <td>0.0</td>\n",
       "      <td>0.000000</td>\n",
       "      <td>0.0</td>\n",
       "      <td>0.0</td>\n",
       "      <td>0.0</td>\n",
       "      <td>0.00000</td>\n",
       "      <td>0.0</td>\n",
       "      <td>...</td>\n",
       "      <td>0.0</td>\n",
       "      <td>0.0</td>\n",
       "      <td>0.0</td>\n",
       "      <td>0.0</td>\n",
       "      <td>0.0</td>\n",
       "      <td>0.0</td>\n",
       "      <td>0.0</td>\n",
       "      <td>0.0</td>\n",
       "      <td>0.000000</td>\n",
       "      <td>0.0</td>\n",
       "    </tr>\n",
       "    <tr>\n",
       "      <th>3</th>\n",
       "      <td>0.000000</td>\n",
       "      <td>0.0</td>\n",
       "      <td>0.0</td>\n",
       "      <td>0.0</td>\n",
       "      <td>0.000000</td>\n",
       "      <td>0.0</td>\n",
       "      <td>0.0</td>\n",
       "      <td>0.0</td>\n",
       "      <td>0.00000</td>\n",
       "      <td>0.0</td>\n",
       "      <td>...</td>\n",
       "      <td>0.0</td>\n",
       "      <td>0.0</td>\n",
       "      <td>0.0</td>\n",
       "      <td>0.0</td>\n",
       "      <td>0.0</td>\n",
       "      <td>0.0</td>\n",
       "      <td>0.0</td>\n",
       "      <td>0.0</td>\n",
       "      <td>0.075092</td>\n",
       "      <td>0.0</td>\n",
       "    </tr>\n",
       "    <tr>\n",
       "      <th>4</th>\n",
       "      <td>0.000000</td>\n",
       "      <td>0.0</td>\n",
       "      <td>0.0</td>\n",
       "      <td>0.0</td>\n",
       "      <td>0.000000</td>\n",
       "      <td>0.0</td>\n",
       "      <td>0.0</td>\n",
       "      <td>0.0</td>\n",
       "      <td>0.00000</td>\n",
       "      <td>0.0</td>\n",
       "      <td>...</td>\n",
       "      <td>0.0</td>\n",
       "      <td>0.0</td>\n",
       "      <td>0.0</td>\n",
       "      <td>0.0</td>\n",
       "      <td>0.0</td>\n",
       "      <td>0.0</td>\n",
       "      <td>0.0</td>\n",
       "      <td>0.0</td>\n",
       "      <td>0.256834</td>\n",
       "      <td>0.0</td>\n",
       "    </tr>\n",
       "  </tbody>\n",
       "</table>\n",
       "<p>5 rows × 5363 columns</p>\n",
       "</div>"
      ],
      "text/plain": [
       "         00   10  100  10am      10pm   11  11am  11pm       12   14  ...  \\\n",
       "0  0.069725  0.0  0.0   0.0  0.092977  0.0   0.0   0.0  0.00000  0.0  ...   \n",
       "1  0.000000  0.0  0.0   0.0  0.000000  0.0   0.0   0.0  0.06095  0.0  ...   \n",
       "2  0.000000  0.0  0.0   0.0  0.000000  0.0   0.0   0.0  0.00000  0.0  ...   \n",
       "3  0.000000  0.0  0.0   0.0  0.000000  0.0   0.0   0.0  0.00000  0.0  ...   \n",
       "4  0.000000  0.0  0.0   0.0  0.000000  0.0   0.0   0.0  0.00000  0.0  ...   \n",
       "\n",
       "   yukon  yummy  yyj  zara  zero  zesty  zip  zipline       zoo  zoom  \n",
       "0    0.0    0.0  0.0   0.0   0.0    0.0  0.0      0.0  0.000000   0.0  \n",
       "1    0.0    0.0  0.0   0.0   0.0    0.0  0.0      0.0  0.000000   0.0  \n",
       "2    0.0    0.0  0.0   0.0   0.0    0.0  0.0      0.0  0.000000   0.0  \n",
       "3    0.0    0.0  0.0   0.0   0.0    0.0  0.0      0.0  0.075092   0.0  \n",
       "4    0.0    0.0  0.0   0.0   0.0    0.0  0.0      0.0  0.256834   0.0  \n",
       "\n",
       "[5 rows x 5363 columns]"
      ]
     },
     "execution_count": 952,
     "metadata": {},
     "output_type": "execute_result"
    }
   ],
   "source": [
    "from sklearn.feature_extraction.text import TfidfVectorizer\n",
    "# Compute TF-IDF values\n",
    "vectorizer = TfidfVectorizer(stop_words='english')\n",
    "tfidf_matrix = vectorizer.fit_transform(df_locations['reviews'])\n",
    "\n",
    "# Create a DataFrame with these features\n",
    "feature_names = vectorizer.get_feature_names_out()\n",
    "df_tfidf = pd.DataFrame(tfidf_matrix.toarray(), columns=feature_names)\n",
    "\n",
    "df_tfidf.head()"
   ]
  },
  {
   "attachments": {},
   "cell_type": "markdown",
   "metadata": {},
   "source": [
    "## Creating the Recommendation Function"
   ]
  },
  {
   "cell_type": "code",
   "execution_count": 953,
   "metadata": {},
   "outputs": [],
   "source": [
    "# Find the cosine similarity between the user_input and all of the reviews\n",
    "from sklearn.metrics.pairwise import cosine_similarity\n",
    "\n",
    "def make_recomendation(user_input, T):\n",
    "    # Compute TF-IDF values\n",
    "    user_input_prepared = vectorizer.transform([user_input])\n",
    "    # Find the cosine similarity between the user_input and all of the reviews\n",
    "    cosine_similarities = cosine_similarity(user_input_prepared, tfidf_matrix).flatten()\n",
    "    # scale the cosine_similarities by the prob_enjoy column\n",
    "    cosine_similarities = cosine_similarities * df_locations['prob_enjoy']**T\n",
    "    # Find the index of the top 5 most similar locations\n",
    "    related_locations_indices = cosine_similarities.argsort()[:-6:-1]\n",
    "    # Print the top 5 most similar locations\n",
    "    return df_locations.iloc[related_locations_indices]\n"
   ]
  },
  {
   "attachments": {},
   "cell_type": "markdown",
   "metadata": {},
   "source": [
    "## Creating a Recommendation"
   ]
  },
  {
   "cell_type": "code",
   "execution_count": 957,
   "metadata": {},
   "outputs": [],
   "source": [
    "user_input = \"I love going to a beach or a park at sunset and then walking through the city at night. I also love to go to museums and learn about the history of the place I'm visiting. My favourite food is sushi and I love to try new restaurants.\""
   ]
  },
  {
   "cell_type": "code",
   "execution_count": 958,
   "metadata": {},
   "outputs": [],
   "source": [
    "recommended = make_recomendation(user_input, 2)"
   ]
  },
  {
   "cell_type": "code",
   "execution_count": 959,
   "metadata": {},
   "outputs": [
    {
     "name": "stdout",
     "output_type": "stream",
     "text": [
      "Royal BC Museum: 4.6\n",
      "------------------\n",
      "Great museum has very nice and extensive exhibits. I went there when they had the wildlife photo-\n",
      "journalism exhibit which was a interesting one. It wasn’t busy whatsoever but I did go on a rainy\n",
      "Sunday around 3:00. Would definitely recommend going. It also seems like there was a third floor\n",
      "exhibit but for some reason it’s closed and I don’t know why. Maybe it will be open sometime in the\n",
      "future.The Grand Dame of Museums in Victoria, BC.  In the heart of the city; next to the Iconic\n",
      "Empress Hotel and across from the Famed Victoria Harbour. The displays in the different themed\n",
      "exhibits are awesome! The extensive information and detail in the displays is fabulous. Plan on\n",
      "spending a minimum of three hours; more, if your a history buff!This is one of the best museums we\n",
      "have visited. It has natural history, art, First People cultural history, and an interactive\n",
      "town/ship/ mine from British colonial history. Really great. Two weeks ago,  that section was closed\n",
      "for remodel. I'm hoping it is still as awesome as ever when it reopens.Great place to visit and\n",
      "learn about the ice age and stuff. They even had a showing of covid portraits which was cool.\n",
      "Likes: it was cheap. $5 per person and it was absolutely worth it. Lots to see and learn.  Dislikes:\n",
      "Nothing I can think ofMust visit!! But set aside at least 3 hours for this place. On\n",
      "Saturdays(Summers I think) they are open until 10pm, which worked in our favour.There is so much\n",
      "information to absorb in limited time. During our visit - The first floor was dedicated for First\n",
      "Nations, Second floor of Animal evolution, Third floor was set aside for Stu the dinosaur (T-Rex\n",
      "fossil discovered in Canada) and the related discoveries. We also had the opportunity to visit -The\n",
      "Angkor wat display- which was excellent, but many of the idols were missing parts while on\n",
      "exhibition :(. The museum is well-maintained, clean, wheelchair accessible and has very friendly\n",
      "staff.\n",
      "\n",
      "\n",
      "Cadboro-Gyro Park: 4.7\n",
      "------------------\n",
      "Amazing beachfront park with soft sand and a great playground. Perfect for a picnic with several\n",
      "tables. An ideal place for families with kids. The playground has swings for little kids and big\n",
      "kids, a few climbable sea monsters and sea creatures, and a great pirate ship with a plank! Most\n",
      "importantly, there is a washroom right next to the play area with water bottle refill station and\n",
      "rinse-off station for sandy little toes. Our son loved this park and so did we!One of the best\n",
      "playgrounds I’ve been to! Octopus slides, whale and sea serpent climbing structures, and many more\n",
      "ocean-themed original creations. The beach itself is sandy and clean. What a beautiful\n",
      "park!Beautiful park and beach. It has everything that a family can enjoy. I can spend a whole day in\n",
      "that park. Love that they also have zipline.Our favourite beach and park to visit when in Victoria.\n",
      "While busy at times, the beach has a tranquil vibe. Great for kids and for chill get-togethers with\n",
      "friends and family.Cadboro Gyro Park is a great place to visit in Victoria, British Columbia. It has\n",
      "a beautiful beach with soft sand and a section for dogs and another section for kids to play without\n",
      "dogs. The playground is really fun and boasts a kiddie zip line. There are also picnic tables and a\n",
      "large grassy area with washrooms. It’s a great family park at the beach with free parking lot\n",
      "\n",
      "\n",
      "Dunlop House Restaurant: 4.9\n",
      "------------------\n",
      "Excellent experience Great to see the new up & coming restaurateurs and hotel managersStudent run\n",
      "restaurant best deals in town for three course dinner.  Delicious and creative. Student staff we\n",
      "professional and attentive.Old fashioned elegance with outstanding food while new students learn the\n",
      "culinary industry from beginning to end.A great place to learn the aspects of hospitality. Thank you\n",
      "Carl for welcoming me thereThe students put on a great themed pub night on Thursday nights!\n",
      "\n",
      "\n",
      "Highrock Cairn Park: 4.7\n",
      "------------------\n",
      "Great place to take your dog to run around in a safe environment!Fantastic view of Victoria. Natural\n",
      "beautyfun little walk with beautiful views for sunset!Great views and a nice place to see a sunset\n",
      "once and a while. Good little journey to downtown but worth the views .Favourite childhood park.\n",
      "Great place to walk your dog or hang out and read a book. Has a great view of Victoria and Esquimalt\n",
      "from the summit\n",
      "\n",
      "\n",
      "Holland Point Park: 4.7\n",
      "------------------\n",
      "A nice park alongside the ocean, plenty of sitting areas to enjoy the views and ocean. A great place\n",
      "to get out and take a walk. I was out here when is was super windy and rainy nobody was around, the\n",
      "Waves were big and looked awesome 😎👍🏼 The sound of Waves crashing is relaxing ❤️ Out on a sunny ☀️😎\n",
      "Day is nice too.I spent a year living close by. Every morning at dawn I would run along the\n",
      "breakwater from Ogden Point to Clover Point and count birds along the way. So far I've seen two\n",
      "Herons, incredibly a Harrier, uncountable Mergancers, sparrows, hummingbirds, mating displays, a\n",
      "large bird of prey, an eagle and a submarine. One of them was smaller than I had expected.More a\n",
      "walking path than a park but this beach front area is a must any time of the year to take in the\n",
      "classic views from Victoria.Nice place to spontaneously jump out of the car and get some sea\n",
      "airAbsolutely love this area of Victoria. Moved to Victoria a few months ago and stayed at an Air\n",
      "BnB across the street from this park. It quickly became my favourite area to talk daily walks with\n",
      "the pup. Gorgeous coast line, plenty of places to sit and even walk down to the beach. Favourite\n",
      "part is watching the fog or a storm roll over the ocean. Definitely recommend walking the path!\n",
      "\n",
      "\n"
     ]
    }
   ],
   "source": [
    "from textwrap import wrap\n",
    "# print the reviews in the recommended DataFrame but in a way that the text fits in the notebook cell output\n",
    "for index, row in recommended.iterrows():\n",
    "    print(row['name'] + ': ' + str(row['avg_rating']))\n",
    "    print(\"------------------\")\n",
    "    print('\\n'.join(wrap(row['reviews'], 100)))\n",
    "    print('\\n')"
   ]
  }
 ],
 "metadata": {
  "kernelspec": {
   "display_name": "base",
   "language": "python",
   "name": "python3"
  },
  "language_info": {
   "codemirror_mode": {
    "name": "ipython",
    "version": 3
   },
   "file_extension": ".py",
   "mimetype": "text/x-python",
   "name": "python",
   "nbconvert_exporter": "python",
   "pygments_lexer": "ipython3",
   "version": "3.10.9"
  },
  "orig_nbformat": 4
 },
 "nbformat": 4,
 "nbformat_minor": 2
}
