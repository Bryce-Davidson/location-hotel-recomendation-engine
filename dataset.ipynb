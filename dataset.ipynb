{
 "cells": [
  {
   "cell_type": "code",
   "execution_count": 22,
   "metadata": {},
   "outputs": [],
   "source": [
    "import os\n",
    "from dotenv import load_dotenv\n",
    "load_dotenv()\n",
    "GOOGLE_API_KEY = os.environ.get('GOOGLE_API_KEY')"
   ]
  },
  {
   "cell_type": "code",
   "execution_count": 23,
   "metadata": {},
   "outputs": [],
   "source": [
    "import pandas as pd\n",
    "import numpy as np\n",
    "import matplotlib.pyplot as plt\n",
    "import googlemaps\n",
    "import time"
   ]
  },
  {
   "cell_type": "code",
   "execution_count": 24,
   "metadata": {},
   "outputs": [],
   "source": [
    "# https://googlemaps.github.io/google-maps-services-python/docs/index.html\n",
    "gmaps = googlemaps.Client(key=GOOGLE_API_KEY)"
   ]
  },
  {
   "cell_type": "code",
   "execution_count": 25,
   "metadata": {},
   "outputs": [],
   "source": [
    "victoria_bc_canada_coords = \"48.407326,-123.329773\"\n",
    "\n",
    "def get_places_nearby(keyword):\n",
    "    data = []\n",
    "    page_token = None\n",
    "    results = {\"next_page_token\": True}\n",
    "    page = 1\n",
    "    while 'next_page_token' in results:\n",
    "        print(f\"Searching: {keyword} | page {page}\")\n",
    "        results = gmaps.places_nearby(location=victoria_bc_canada_coords, radius=6000, keyword=keyword, page_token=page_token)\n",
    "        \n",
    "        if 'next_page_token' in results:\n",
    "            page_token = results['next_page_token']\n",
    "        \n",
    "        for result in results['results']:\n",
    "            row = {\n",
    "                'place_id': result['place_id'],\n",
    "                'name': result['name'],\n",
    "                \n",
    "                'avg_rating': result['rating'] if 'rating' in result else np.nan,\n",
    "                \n",
    "                'lat': result['geometry']['location']['lat'],\n",
    "                'lng': result['geometry']['location']['lng'],\n",
    "                \n",
    "                'user_ratings_total': result['user_ratings_total'] if 'user_ratings_total' in result else np.nan,\n",
    "            }\n",
    "            data.append(row)\n",
    "        time.sleep(2)\n",
    "        page += 1\n",
    "\n",
    "    return data"
   ]
  },
  {
   "cell_type": "code",
   "execution_count": 26,
   "metadata": {},
   "outputs": [],
   "source": [
    "# t = [\"1\", \"2\", \"3\"]\n",
    "# blob = \"1 \\n 2 \\n 3\"\n",
    "\n",
    "def get_place_details(place_data_df):\n",
    "    for index, row in place_data_df.iterrows():\n",
    "        place_details = gmaps.place(place_id=row['place_id'], \n",
    "                                   fields=['reviews', 'place_id'])\n",
    "        \n",
    "        if \"reviews\" in place_details['result']:\n",
    "            review_blob = \"\"\n",
    "            for review in place_details['result']['reviews']:\n",
    "                review_blob += review['text'] + \"\\n\"\n",
    "            place_data_df.loc[index, 'reviews'] = review_blob\n",
    "    \n",
    "    return place_data_df\n"
   ]
  },
  {
   "cell_type": "code",
   "execution_count": 27,
   "metadata": {},
   "outputs": [],
   "source": [
    "def get_place_data(searches):\n",
    "    data = []\n",
    "    for search in searches:\n",
    "        data.extend(get_places_nearby(search))\n",
    "\n",
    "    df = pd.DataFrame(data)\n",
    "    print(\"Scraped: \", df.shape)\n",
    "\n",
    "    df = df.drop_duplicates(subset=['name'], keep='first')\n",
    "    print(\"Unique:\", df.shape)\n",
    "\n",
    "    df = get_place_details(df)\n",
    "\n",
    "    return df"
   ]
  },
  {
   "attachments": {},
   "cell_type": "markdown",
   "metadata": {},
   "source": [
    "# Scraping Locations"
   ]
  },
  {
   "cell_type": "code",
   "execution_count": 28,
   "metadata": {},
   "outputs": [],
   "source": [
    "# https://developers.google.com/maps/documentation/places/web-service/supported_types\n",
    "\n",
    "location_searches = [\"things to do\", \"tourist attractions\", \"scenic view points\", \"historical sites\", \"beaches\", \"clothing stores\", \"restaurants\", \"breakfast\", \"lunch\", \"dinner\", \"rentals\", \"biking\"]"
   ]
  },
  {
   "cell_type": "code",
   "execution_count": 29,
   "metadata": {},
   "outputs": [
    {
     "name": "stdout",
     "output_type": "stream",
     "text": [
      "Searching: things to do | page 1\n"
     ]
    },
    {
     "name": "stdout",
     "output_type": "stream",
     "text": [
      "Searching: things to do | page 2\n",
      "Searching: tourist attractions | page 1\n",
      "Searching: tourist attractions | page 2\n",
      "Searching: tourist attractions | page 3\n",
      "Searching: scenic view points | page 1\n",
      "Searching: historical sites | page 1\n",
      "Searching: historical sites | page 2\n",
      "Searching: beaches | page 1\n",
      "Searching: clothing stores | page 1\n",
      "Searching: clothing stores | page 2\n",
      "Searching: clothing stores | page 3\n",
      "Searching: restaurants | page 1\n",
      "Searching: restaurants | page 2\n",
      "Searching: restaurants | page 3\n",
      "Searching: breakfast | page 1\n",
      "Searching: breakfast | page 2\n",
      "Searching: breakfast | page 3\n",
      "Searching: lunch | page 1\n",
      "Searching: lunch | page 2\n",
      "Searching: lunch | page 3\n",
      "Searching: dinner | page 1\n",
      "Searching: dinner | page 2\n",
      "Searching: dinner | page 3\n",
      "Searching: rentals | page 1\n",
      "Searching: biking | page 1\n",
      "Searching: biking | page 2\n",
      "Scraped:  (504, 6)\n",
      "Unique: (357, 6)\n"
     ]
    }
   ],
   "source": [
    "df_locations = get_place_data(location_searches)"
   ]
  },
  {
   "cell_type": "code",
   "execution_count": 30,
   "metadata": {},
   "outputs": [
    {
     "data": {
      "text/html": [
       "<div>\n",
       "<style scoped>\n",
       "    .dataframe tbody tr th:only-of-type {\n",
       "        vertical-align: middle;\n",
       "    }\n",
       "\n",
       "    .dataframe tbody tr th {\n",
       "        vertical-align: top;\n",
       "    }\n",
       "\n",
       "    .dataframe thead th {\n",
       "        text-align: right;\n",
       "    }\n",
       "</style>\n",
       "<table border=\"1\" class=\"dataframe\">\n",
       "  <thead>\n",
       "    <tr style=\"text-align: right;\">\n",
       "      <th></th>\n",
       "      <th>place_id</th>\n",
       "      <th>name</th>\n",
       "      <th>avg_rating</th>\n",
       "      <th>lat</th>\n",
       "      <th>lng</th>\n",
       "      <th>user_ratings_total</th>\n",
       "      <th>reviews</th>\n",
       "    </tr>\n",
       "  </thead>\n",
       "  <tbody>\n",
       "    <tr>\n",
       "      <th>0</th>\n",
       "      <td>ChIJ1e5UJJF0j1QR6VpPNf8TYiQ</td>\n",
       "      <td>Royal BC Museum</td>\n",
       "      <td>4.6</td>\n",
       "      <td>48.419811</td>\n",
       "      <td>-123.367450</td>\n",
       "      <td>8661</td>\n",
       "      <td>Great museum has very nice and extensive exhib...</td>\n",
       "    </tr>\n",
       "    <tr>\n",
       "      <th>1</th>\n",
       "      <td>ChIJmXc0Z6J0j1QR4CJUS73dyZk</td>\n",
       "      <td>Fisherman's Wharf Park</td>\n",
       "      <td>4.5</td>\n",
       "      <td>48.421950</td>\n",
       "      <td>-123.383014</td>\n",
       "      <td>7523</td>\n",
       "      <td>A popular tourist attraction on the Victoria w...</td>\n",
       "    </tr>\n",
       "    <tr>\n",
       "      <th>2</th>\n",
       "      <td>ChIJueKTCmtzj1QRxJZTfhNWlsY</td>\n",
       "      <td>Esquimalt Gorge Park &amp; Pavilion</td>\n",
       "      <td>4.7</td>\n",
       "      <td>48.446345</td>\n",
       "      <td>-123.404949</td>\n",
       "      <td>1078</td>\n",
       "      <td>This park is so lovely! City staff do a great ...</td>\n",
       "    </tr>\n",
       "    <tr>\n",
       "      <th>3</th>\n",
       "      <td>ChIJ5ZScPpF0j1QRBLCY8tTvWsM</td>\n",
       "      <td>Thunderbird Park</td>\n",
       "      <td>4.3</td>\n",
       "      <td>48.419794</td>\n",
       "      <td>-123.366680</td>\n",
       "      <td>203</td>\n",
       "      <td>Like the totems and of course worth visiting t...</td>\n",
       "    </tr>\n",
       "    <tr>\n",
       "      <th>4</th>\n",
       "      <td>ChIJS9YYcJB0j1QRPWHIFtwTr18</td>\n",
       "      <td>Victoria Bug Zoo</td>\n",
       "      <td>4.5</td>\n",
       "      <td>48.423300</td>\n",
       "      <td>-123.366668</td>\n",
       "      <td>1822</td>\n",
       "      <td>My daughter and I had a fantastic time at the ...</td>\n",
       "    </tr>\n",
       "  </tbody>\n",
       "</table>\n",
       "</div>"
      ],
      "text/plain": [
       "                      place_id                             name  avg_rating  \\\n",
       "0  ChIJ1e5UJJF0j1QR6VpPNf8TYiQ                  Royal BC Museum         4.6   \n",
       "1  ChIJmXc0Z6J0j1QR4CJUS73dyZk           Fisherman's Wharf Park         4.5   \n",
       "2  ChIJueKTCmtzj1QRxJZTfhNWlsY  Esquimalt Gorge Park & Pavilion         4.7   \n",
       "3  ChIJ5ZScPpF0j1QRBLCY8tTvWsM                 Thunderbird Park         4.3   \n",
       "4  ChIJS9YYcJB0j1QRPWHIFtwTr18                 Victoria Bug Zoo         4.5   \n",
       "\n",
       "         lat         lng  user_ratings_total  \\\n",
       "0  48.419811 -123.367450                8661   \n",
       "1  48.421950 -123.383014                7523   \n",
       "2  48.446345 -123.404949                1078   \n",
       "3  48.419794 -123.366680                 203   \n",
       "4  48.423300 -123.366668                1822   \n",
       "\n",
       "                                             reviews  \n",
       "0  Great museum has very nice and extensive exhib...  \n",
       "1  A popular tourist attraction on the Victoria w...  \n",
       "2  This park is so lovely! City staff do a great ...  \n",
       "3  Like the totems and of course worth visiting t...  \n",
       "4  My daughter and I had a fantastic time at the ...  "
      ]
     },
     "execution_count": 30,
     "metadata": {},
     "output_type": "execute_result"
    }
   ],
   "source": [
    "df_locations.head()"
   ]
  },
  {
   "cell_type": "code",
   "execution_count": 32,
   "metadata": {},
   "outputs": [],
   "source": [
    "df_locations.to_csv(\"locations.csv\", index=False)"
   ]
  }
 ],
 "metadata": {
  "kernelspec": {
   "display_name": "base",
   "language": "python",
   "name": "python3"
  },
  "language_info": {
   "codemirror_mode": {
    "name": "ipython",
    "version": 3
   },
   "file_extension": ".py",
   "mimetype": "text/x-python",
   "name": "python",
   "nbconvert_exporter": "python",
   "pygments_lexer": "ipython3",
   "version": "3.10.9"
  },
  "orig_nbformat": 4
 },
 "nbformat": 4,
 "nbformat_minor": 2
}
